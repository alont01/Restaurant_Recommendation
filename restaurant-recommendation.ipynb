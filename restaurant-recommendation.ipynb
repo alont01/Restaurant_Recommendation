{
 "cells": [
  {
   "cell_type": "code",
   "execution_count": 1,
   "metadata": {},
   "outputs": [
    {
     "name": "stdout",
     "output_type": "stream",
     "text": [
      "D:\\uni\\9 Spring 2023\\Stat 535\\yelp\n"
     ]
    }
   ],
   "source": [
    "'''%cd D:\\uni\\9 Spring 2023\\Stat 535\\yelp''' #this is just for my own working directory"
   ]
  },
  {
   "cell_type": "code",
   "execution_count": 2,
   "metadata": {
    "_cell_guid": "b1076dfc-b9ad-4769-8c92-a6c4dae69d19",
    "_uuid": "8f2839f25d086af736a60e9eeb907d3b93b6e0e5",
    "execution": {
     "iopub.execute_input": "2022-10-30T21:52:50.487043Z",
     "iopub.status.busy": "2022-10-30T21:52:50.486611Z",
     "iopub.status.idle": "2022-10-30T21:52:50.508687Z",
     "shell.execute_reply": "2022-10-30T21:52:50.507802Z",
     "shell.execute_reply.started": "2022-10-30T21:52:50.487008Z"
    }
   },
   "outputs": [],
   "source": [
    "# This Python 3 environment comes with many helpful analytics libraries installed\n",
    "# It is defined by the kaggle/python Docker image: https://github.com/kaggle/docker-python\n",
    "# For example, here's several helpful packages to load\n",
    "\n",
    "import numpy as np # linear algebra\n",
    "import pandas as pd # data processing, CSV file I/O (e.g. pd.read_csv)\n",
    "\n",
    "# Input data files are available in the read-only \"../input/\" directory\n",
    "# For example, running this (by clicking run or pressing Shift+Enter) will list all files under the input directory\n",
    "\n",
    "import os\n",
    "for dirname, _, filenames in os.walk('/kaggle/input'):\n",
    "    for filename in filenames:\n",
    "        print(os.path.join(dirname, filename))\n",
    "\n",
    "# You can write up to 20GB to the current directory (/kaggle/working/) that gets preserved as output when you create a version using \"Save & Run All\" \n",
    "# You can also write temporary files to /kaggle/temp/, but they won't be saved outside of the current session"
   ]
  },
  {
   "cell_type": "code",
   "execution_count": 3,
   "metadata": {
    "execution": {
     "iopub.execute_input": "2022-10-30T21:52:50.514566Z",
     "iopub.status.busy": "2022-10-30T21:52:50.513503Z",
     "iopub.status.idle": "2022-10-30T21:52:51.216569Z",
     "shell.execute_reply": "2022-10-30T21:52:51.215603Z",
     "shell.execute_reply.started": "2022-10-30T21:52:50.514525Z"
    }
   },
   "outputs": [],
   "source": [
    "## Importing modules\n",
    "\n",
    "import pandas as pd\n",
    "from surprise import SVD\n",
    "from surprise import Dataset\n",
    "from surprise import accuracy\n",
    "from surprise.model_selection import train_test_split\n",
    "from surprise import KNNBasic,  KNNWithMeans, KNNBaseline\n",
    "from surprise.model_selection import KFold\n",
    "from surprise import Reader\n",
    "import matplotlib.pyplot as plt\n",
    "import seaborn as sns\n",
    "from collections import defaultdict"
   ]
  },
  {
   "cell_type": "code",
   "execution_count": 6,
   "metadata": {
    "execution": {
     "iopub.execute_input": "2022-10-30T21:52:51.219021Z",
     "iopub.status.busy": "2022-10-30T21:52:51.218674Z",
     "iopub.status.idle": "2022-10-30T21:55:07.803295Z",
     "shell.execute_reply": "2022-10-30T21:55:07.801925Z",
     "shell.execute_reply.started": "2022-10-30T21:52:51.218989Z"
    }
   },
   "outputs": [],
   "source": [
    "## Importing data\n",
    "review_data = pd.read_csv('yelp_academic_dataset_review.csv', usecols= ['business_id', 'stars', 'review_id', 'user_id'])\n",
    "business_data = pd.read_csv('yelp_academic_dataset_business.csv', usecols= ['business_id', 'name', 'review_count', 'categories', 'stars'])\n",
    "user_data = pd.read_csv('yelp_academic_dataset_user.csv', usecols= ['user_id', 'name'])\n",
    "\n",
    "## Since users and business dataframe both have the same column names we will update them accordingly\n",
    "user_data = user_data.rename(columns = { 'name': 'Username' })\n",
    "business_data = business_data.rename(columns = { 'name': 'Restaurant name' })"
   ]
  },
  {
   "cell_type": "code",
   "execution_count": 13,
   "metadata": {},
   "outputs": [
    {
     "data": {
      "text/html": [
       "<div>\n",
       "<style scoped>\n",
       "    .dataframe tbody tr th:only-of-type {\n",
       "        vertical-align: middle;\n",
       "    }\n",
       "\n",
       "    .dataframe tbody tr th {\n",
       "        vertical-align: top;\n",
       "    }\n",
       "\n",
       "    .dataframe thead th {\n",
       "        text-align: right;\n",
       "    }\n",
       "</style>\n",
       "<table border=\"1\" class=\"dataframe\">\n",
       "  <thead>\n",
       "    <tr style=\"text-align: right;\">\n",
       "      <th></th>\n",
       "      <th>review_id</th>\n",
       "      <th>user_id</th>\n",
       "      <th>business_id</th>\n",
       "      <th>stars</th>\n",
       "    </tr>\n",
       "  </thead>\n",
       "  <tbody>\n",
       "    <tr>\n",
       "      <th>0</th>\n",
       "      <td>KU_O5udG6zpxOg-VcAEodg</td>\n",
       "      <td>mh_-eMZ6K5RLWhZyISBhwA</td>\n",
       "      <td>XQfwVwDr-v0ZS3_CbbE5Xw</td>\n",
       "      <td>3.0</td>\n",
       "    </tr>\n",
       "    <tr>\n",
       "      <th>1</th>\n",
       "      <td>BiTunyQ73aT9WBnpR9DZGw</td>\n",
       "      <td>OyoGAe7OKpv6SyGZT5g77Q</td>\n",
       "      <td>7ATYjTIgM3jUlt4UM3IypQ</td>\n",
       "      <td>5.0</td>\n",
       "    </tr>\n",
       "    <tr>\n",
       "      <th>2</th>\n",
       "      <td>saUsX_uimxRlCVr67Z4Jig</td>\n",
       "      <td>8g_iMtfSiwikVnbP2etR0A</td>\n",
       "      <td>YjUWPpI6HXG530lwP-fb2A</td>\n",
       "      <td>3.0</td>\n",
       "    </tr>\n",
       "    <tr>\n",
       "      <th>3</th>\n",
       "      <td>AqPFMleE6RsU23_auESxiA</td>\n",
       "      <td>_7bHUi9Uuf5__HHc_Q8guQ</td>\n",
       "      <td>kxX2SOes4o-D3ZQBkiMRfA</td>\n",
       "      <td>5.0</td>\n",
       "    </tr>\n",
       "    <tr>\n",
       "      <th>4</th>\n",
       "      <td>Sx8TMOWLNuJBWer-0pcmoA</td>\n",
       "      <td>bcjbaE6dDog4jkNY91ncLQ</td>\n",
       "      <td>e4Vwtrqf-wpJfwesgvdgxQ</td>\n",
       "      <td>4.0</td>\n",
       "    </tr>\n",
       "    <tr>\n",
       "      <th>...</th>\n",
       "      <td>...</td>\n",
       "      <td>...</td>\n",
       "      <td>...</td>\n",
       "      <td>...</td>\n",
       "    </tr>\n",
       "    <tr>\n",
       "      <th>6990275</th>\n",
       "      <td>H0RIamZu0B0Ei0P4aeh3sQ</td>\n",
       "      <td>qskILQ3k0I_qcCMI-k6_QQ</td>\n",
       "      <td>jals67o91gcrD4DC81Vk6w</td>\n",
       "      <td>5.0</td>\n",
       "    </tr>\n",
       "    <tr>\n",
       "      <th>6990276</th>\n",
       "      <td>shTPgbgdwTHSuU67mGCmZQ</td>\n",
       "      <td>Zo0th2m8Ez4gLSbHftiQvg</td>\n",
       "      <td>2vLksaMmSEcGbjI5gywpZA</td>\n",
       "      <td>5.0</td>\n",
       "    </tr>\n",
       "    <tr>\n",
       "      <th>6990277</th>\n",
       "      <td>YNfNhgZlaaCO5Q_YJR4rEw</td>\n",
       "      <td>mm6E4FbCMwJmb7kPDZ5v2Q</td>\n",
       "      <td>R1khUUxidqfaJmcpmGd4aw</td>\n",
       "      <td>4.0</td>\n",
       "    </tr>\n",
       "    <tr>\n",
       "      <th>6990278</th>\n",
       "      <td>i-I4ZOhoX70Nw5H0FwrQUA</td>\n",
       "      <td>YwAMC-jvZ1fvEUum6QkEkw</td>\n",
       "      <td>Rr9kKArrMhSLVE9a53q-aA</td>\n",
       "      <td>5.0</td>\n",
       "    </tr>\n",
       "    <tr>\n",
       "      <th>6990279</th>\n",
       "      <td>RwcKOdEuLRHNJe4M9-qpqg</td>\n",
       "      <td>6JehEvdoCvZPJ_XIxnzIIw</td>\n",
       "      <td>VAeEXLbEcI9Emt9KGYq9aA</td>\n",
       "      <td>3.0</td>\n",
       "    </tr>\n",
       "  </tbody>\n",
       "</table>\n",
       "<p>6990280 rows × 4 columns</p>\n",
       "</div>"
      ],
      "text/plain": [
       "                      review_id                 user_id  \\\n",
       "0        KU_O5udG6zpxOg-VcAEodg  mh_-eMZ6K5RLWhZyISBhwA   \n",
       "1        BiTunyQ73aT9WBnpR9DZGw  OyoGAe7OKpv6SyGZT5g77Q   \n",
       "2        saUsX_uimxRlCVr67Z4Jig  8g_iMtfSiwikVnbP2etR0A   \n",
       "3        AqPFMleE6RsU23_auESxiA  _7bHUi9Uuf5__HHc_Q8guQ   \n",
       "4        Sx8TMOWLNuJBWer-0pcmoA  bcjbaE6dDog4jkNY91ncLQ   \n",
       "...                         ...                     ...   \n",
       "6990275  H0RIamZu0B0Ei0P4aeh3sQ  qskILQ3k0I_qcCMI-k6_QQ   \n",
       "6990276  shTPgbgdwTHSuU67mGCmZQ  Zo0th2m8Ez4gLSbHftiQvg   \n",
       "6990277  YNfNhgZlaaCO5Q_YJR4rEw  mm6E4FbCMwJmb7kPDZ5v2Q   \n",
       "6990278  i-I4ZOhoX70Nw5H0FwrQUA  YwAMC-jvZ1fvEUum6QkEkw   \n",
       "6990279  RwcKOdEuLRHNJe4M9-qpqg  6JehEvdoCvZPJ_XIxnzIIw   \n",
       "\n",
       "                    business_id  stars  \n",
       "0        XQfwVwDr-v0ZS3_CbbE5Xw    3.0  \n",
       "1        7ATYjTIgM3jUlt4UM3IypQ    5.0  \n",
       "2        YjUWPpI6HXG530lwP-fb2A    3.0  \n",
       "3        kxX2SOes4o-D3ZQBkiMRfA    5.0  \n",
       "4        e4Vwtrqf-wpJfwesgvdgxQ    4.0  \n",
       "...                         ...    ...  \n",
       "6990275  jals67o91gcrD4DC81Vk6w    5.0  \n",
       "6990276  2vLksaMmSEcGbjI5gywpZA    5.0  \n",
       "6990277  R1khUUxidqfaJmcpmGd4aw    4.0  \n",
       "6990278  Rr9kKArrMhSLVE9a53q-aA    5.0  \n",
       "6990279  VAeEXLbEcI9Emt9KGYq9aA    3.0  \n",
       "\n",
       "[6990280 rows x 4 columns]"
      ]
     },
     "execution_count": 13,
     "metadata": {},
     "output_type": "execute_result"
    }
   ],
   "source": [
    "review_data"
   ]
  },
  {
   "cell_type": "code",
   "execution_count": 7,
   "metadata": {
    "execution": {
     "iopub.execute_input": "2022-10-30T21:55:07.805687Z",
     "iopub.status.busy": "2022-10-30T21:55:07.805164Z",
     "iopub.status.idle": "2022-10-30T21:55:07.812593Z",
     "shell.execute_reply": "2022-10-30T21:55:07.811315Z",
     "shell.execute_reply.started": "2022-10-30T21:55:07.805638Z"
    }
   },
   "outputs": [
    {
     "name": "stdout",
     "output_type": "stream",
     "text": [
      "['user_id' 'Username']\n"
     ]
    }
   ],
   "source": [
    "print(user_data.columns.values)"
   ]
  },
  {
   "cell_type": "code",
   "execution_count": 8,
   "metadata": {
    "execution": {
     "iopub.execute_input": "2022-10-30T21:55:07.816793Z",
     "iopub.status.busy": "2022-10-30T21:55:07.815972Z",
     "iopub.status.idle": "2022-10-30T21:55:07.827615Z",
     "shell.execute_reply": "2022-10-30T21:55:07.826475Z",
     "shell.execute_reply.started": "2022-10-30T21:55:07.816747Z"
    }
   },
   "outputs": [
    {
     "name": "stdout",
     "output_type": "stream",
     "text": [
      "['business_id' 'categories' 'review_count' 'Restaurant name' 'stars']\n"
     ]
    }
   ],
   "source": [
    "print(business_data.columns.values)"
   ]
  },
  {
   "cell_type": "code",
   "execution_count": 9,
   "metadata": {
    "execution": {
     "iopub.execute_input": "2022-10-30T21:55:07.83005Z",
     "iopub.status.busy": "2022-10-30T21:55:07.829499Z",
     "iopub.status.idle": "2022-10-30T21:55:07.837529Z",
     "shell.execute_reply": "2022-10-30T21:55:07.836294Z",
     "shell.execute_reply.started": "2022-10-30T21:55:07.830005Z"
    }
   },
   "outputs": [
    {
     "name": "stdout",
     "output_type": "stream",
     "text": [
      "['review_id' 'user_id' 'business_id' 'stars']\n"
     ]
    }
   ],
   "source": [
    "print(review_data.columns.values)"
   ]
  },
  {
   "cell_type": "code",
   "execution_count": 10,
   "metadata": {
    "execution": {
     "iopub.execute_input": "2022-10-30T21:55:07.839943Z",
     "iopub.status.busy": "2022-10-30T21:55:07.839297Z",
     "iopub.status.idle": "2022-10-30T21:55:08.025575Z",
     "shell.execute_reply": "2022-10-30T21:55:08.024339Z",
     "shell.execute_reply.started": "2022-10-30T21:55:07.839898Z"
    }
   },
   "outputs": [
    {
     "data": {
      "text/plain": [
       "user_id     0\n",
       "Username    8\n",
       "dtype: int64"
      ]
     },
     "execution_count": 10,
     "metadata": {},
     "output_type": "execute_result"
    }
   ],
   "source": [
    "user_data.isnull().sum()\n"
   ]
  },
  {
   "cell_type": "code",
   "execution_count": 11,
   "metadata": {
    "execution": {
     "iopub.execute_input": "2022-10-30T21:55:08.027935Z",
     "iopub.status.busy": "2022-10-30T21:55:08.027471Z",
     "iopub.status.idle": "2022-10-30T21:55:08.062317Z",
     "shell.execute_reply": "2022-10-30T21:55:08.061352Z",
     "shell.execute_reply.started": "2022-10-30T21:55:08.027894Z"
    }
   },
   "outputs": [
    {
     "data": {
      "text/plain": [
       "business_id          0\n",
       "categories         103\n",
       "review_count         0\n",
       "Restaurant name      0\n",
       "stars                0\n",
       "dtype: int64"
      ]
     },
     "execution_count": 11,
     "metadata": {},
     "output_type": "execute_result"
    }
   ],
   "source": [
    "business_data.isnull().sum()\n"
   ]
  },
  {
   "cell_type": "code",
   "execution_count": 14,
   "metadata": {
    "execution": {
     "iopub.execute_input": "2022-10-30T21:55:08.064626Z",
     "iopub.status.busy": "2022-10-30T21:55:08.063896Z",
     "iopub.status.idle": "2022-10-30T21:55:09.032937Z",
     "shell.execute_reply": "2022-10-30T21:55:09.031937Z",
     "shell.execute_reply.started": "2022-10-30T21:55:08.064591Z"
    }
   },
   "outputs": [
    {
     "data": {
      "text/plain": [
       "review_id      0\n",
       "user_id        0\n",
       "business_id    0\n",
       "stars          0\n",
       "dtype: int64"
      ]
     },
     "execution_count": 14,
     "metadata": {},
     "output_type": "execute_result"
    }
   ],
   "source": [
    "review_data.isnull().sum()"
   ]
  },
  {
   "cell_type": "code",
   "execution_count": 15,
   "metadata": {
    "execution": {
     "iopub.execute_input": "2022-10-30T21:55:09.035185Z",
     "iopub.status.busy": "2022-10-30T21:55:09.034743Z",
     "iopub.status.idle": "2022-10-30T21:55:09.053946Z",
     "shell.execute_reply": "2022-10-30T21:55:09.052799Z",
     "shell.execute_reply.started": "2022-10-30T21:55:09.035144Z"
    }
   },
   "outputs": [
    {
     "data": {
      "text/html": [
       "<div>\n",
       "<style scoped>\n",
       "    .dataframe tbody tr th:only-of-type {\n",
       "        vertical-align: middle;\n",
       "    }\n",
       "\n",
       "    .dataframe tbody tr th {\n",
       "        vertical-align: top;\n",
       "    }\n",
       "\n",
       "    .dataframe thead th {\n",
       "        text-align: right;\n",
       "    }\n",
       "</style>\n",
       "<table border=\"1\" class=\"dataframe\">\n",
       "  <thead>\n",
       "    <tr style=\"text-align: right;\">\n",
       "      <th></th>\n",
       "      <th>business_id</th>\n",
       "      <th>categories</th>\n",
       "      <th>review_count</th>\n",
       "      <th>Restaurant name</th>\n",
       "      <th>stars</th>\n",
       "    </tr>\n",
       "  </thead>\n",
       "  <tbody>\n",
       "    <tr>\n",
       "      <th>0</th>\n",
       "      <td>Pns2l4eNsfO8kk83dixA6A</td>\n",
       "      <td>Doctors, Traditional Chinese Medicine, Naturop...</td>\n",
       "      <td>7</td>\n",
       "      <td>Abby Rappoport, LAC, CMQ</td>\n",
       "      <td>5.0</td>\n",
       "    </tr>\n",
       "    <tr>\n",
       "      <th>1</th>\n",
       "      <td>mpf3x-BjTdTEA3yCZrAYPw</td>\n",
       "      <td>Shipping Centers, Local Services, Notaries, Ma...</td>\n",
       "      <td>15</td>\n",
       "      <td>The UPS Store</td>\n",
       "      <td>3.0</td>\n",
       "    </tr>\n",
       "    <tr>\n",
       "      <th>2</th>\n",
       "      <td>tUFrWirKiKi_TAnsVWINQQ</td>\n",
       "      <td>Department Stores, Shopping, Fashion, Home &amp; G...</td>\n",
       "      <td>22</td>\n",
       "      <td>Target</td>\n",
       "      <td>3.5</td>\n",
       "    </tr>\n",
       "    <tr>\n",
       "      <th>3</th>\n",
       "      <td>MTSW4McQd7CbVtyjqoe9mw</td>\n",
       "      <td>Restaurants, Food, Bubble Tea, Coffee &amp; Tea, B...</td>\n",
       "      <td>80</td>\n",
       "      <td>St Honore Pastries</td>\n",
       "      <td>4.0</td>\n",
       "    </tr>\n",
       "    <tr>\n",
       "      <th>4</th>\n",
       "      <td>mWMc6_wTdE0EUBKIGXDVfA</td>\n",
       "      <td>Brewpubs, Breweries, Food</td>\n",
       "      <td>13</td>\n",
       "      <td>Perkiomen Valley Brewery</td>\n",
       "      <td>4.5</td>\n",
       "    </tr>\n",
       "  </tbody>\n",
       "</table>\n",
       "</div>"
      ],
      "text/plain": [
       "              business_id                                         categories  \\\n",
       "0  Pns2l4eNsfO8kk83dixA6A  Doctors, Traditional Chinese Medicine, Naturop...   \n",
       "1  mpf3x-BjTdTEA3yCZrAYPw  Shipping Centers, Local Services, Notaries, Ma...   \n",
       "2  tUFrWirKiKi_TAnsVWINQQ  Department Stores, Shopping, Fashion, Home & G...   \n",
       "3  MTSW4McQd7CbVtyjqoe9mw  Restaurants, Food, Bubble Tea, Coffee & Tea, B...   \n",
       "4  mWMc6_wTdE0EUBKIGXDVfA                          Brewpubs, Breweries, Food   \n",
       "\n",
       "   review_count           Restaurant name  stars  \n",
       "0             7  Abby Rappoport, LAC, CMQ    5.0  \n",
       "1            15             The UPS Store    3.0  \n",
       "2            22                    Target    3.5  \n",
       "3            80        St Honore Pastries    4.0  \n",
       "4            13  Perkiomen Valley Brewery    4.5  "
      ]
     },
     "execution_count": 15,
     "metadata": {},
     "output_type": "execute_result"
    }
   ],
   "source": [
    "business_data.head(5)"
   ]
  },
  {
   "cell_type": "code",
   "execution_count": 16,
   "metadata": {
    "execution": {
     "iopub.execute_input": "2022-10-30T21:55:09.059722Z",
     "iopub.status.busy": "2022-10-30T21:55:09.059222Z",
     "iopub.status.idle": "2022-10-30T21:55:09.067741Z",
     "shell.execute_reply": "2022-10-30T21:55:09.06656Z",
     "shell.execute_reply.started": "2022-10-30T21:55:09.059686Z"
    }
   },
   "outputs": [
    {
     "data": {
      "text/plain": [
       "(150346, 5)"
      ]
     },
     "execution_count": 16,
     "metadata": {},
     "output_type": "execute_result"
    }
   ],
   "source": [
    "business_data.shape"
   ]
  },
  {
   "cell_type": "code",
   "execution_count": 17,
   "metadata": {
    "execution": {
     "iopub.execute_input": "2022-10-30T21:55:09.070488Z",
     "iopub.status.busy": "2022-10-30T21:55:09.069575Z",
     "iopub.status.idle": "2022-10-30T21:55:09.179494Z",
     "shell.execute_reply": "2022-10-30T21:55:09.178382Z",
     "shell.execute_reply.started": "2022-10-30T21:55:09.070444Z"
    }
   },
   "outputs": [
    {
     "data": {
      "text/html": [
       "<div>\n",
       "<style scoped>\n",
       "    .dataframe tbody tr th:only-of-type {\n",
       "        vertical-align: middle;\n",
       "    }\n",
       "\n",
       "    .dataframe tbody tr th {\n",
       "        vertical-align: top;\n",
       "    }\n",
       "\n",
       "    .dataframe thead th {\n",
       "        text-align: right;\n",
       "    }\n",
       "</style>\n",
       "<table border=\"1\" class=\"dataframe\">\n",
       "  <thead>\n",
       "    <tr style=\"text-align: right;\">\n",
       "      <th></th>\n",
       "      <th>business_id</th>\n",
       "      <th>categories</th>\n",
       "      <th>review_count</th>\n",
       "      <th>Restaurant name</th>\n",
       "      <th>stars</th>\n",
       "      <th>Restaurants</th>\n",
       "    </tr>\n",
       "  </thead>\n",
       "  <tbody>\n",
       "    <tr>\n",
       "      <th>0</th>\n",
       "      <td>Pns2l4eNsfO8kk83dixA6A</td>\n",
       "      <td>Doctors, Traditional Chinese Medicine, Naturop...</td>\n",
       "      <td>7</td>\n",
       "      <td>Abby Rappoport, LAC, CMQ</td>\n",
       "      <td>5.0</td>\n",
       "      <td>False</td>\n",
       "    </tr>\n",
       "    <tr>\n",
       "      <th>1</th>\n",
       "      <td>mpf3x-BjTdTEA3yCZrAYPw</td>\n",
       "      <td>Shipping Centers, Local Services, Notaries, Ma...</td>\n",
       "      <td>15</td>\n",
       "      <td>The UPS Store</td>\n",
       "      <td>3.0</td>\n",
       "      <td>False</td>\n",
       "    </tr>\n",
       "    <tr>\n",
       "      <th>2</th>\n",
       "      <td>tUFrWirKiKi_TAnsVWINQQ</td>\n",
       "      <td>Department Stores, Shopping, Fashion, Home &amp; G...</td>\n",
       "      <td>22</td>\n",
       "      <td>Target</td>\n",
       "      <td>3.5</td>\n",
       "      <td>False</td>\n",
       "    </tr>\n",
       "    <tr>\n",
       "      <th>3</th>\n",
       "      <td>MTSW4McQd7CbVtyjqoe9mw</td>\n",
       "      <td>Restaurants, Food, Bubble Tea, Coffee &amp; Tea, B...</td>\n",
       "      <td>80</td>\n",
       "      <td>St Honore Pastries</td>\n",
       "      <td>4.0</td>\n",
       "      <td>True</td>\n",
       "    </tr>\n",
       "    <tr>\n",
       "      <th>4</th>\n",
       "      <td>mWMc6_wTdE0EUBKIGXDVfA</td>\n",
       "      <td>Brewpubs, Breweries, Food</td>\n",
       "      <td>13</td>\n",
       "      <td>Perkiomen Valley Brewery</td>\n",
       "      <td>4.5</td>\n",
       "      <td>False</td>\n",
       "    </tr>\n",
       "  </tbody>\n",
       "</table>\n",
       "</div>"
      ],
      "text/plain": [
       "              business_id                                         categories  \\\n",
       "0  Pns2l4eNsfO8kk83dixA6A  Doctors, Traditional Chinese Medicine, Naturop...   \n",
       "1  mpf3x-BjTdTEA3yCZrAYPw  Shipping Centers, Local Services, Notaries, Ma...   \n",
       "2  tUFrWirKiKi_TAnsVWINQQ  Department Stores, Shopping, Fashion, Home & G...   \n",
       "3  MTSW4McQd7CbVtyjqoe9mw  Restaurants, Food, Bubble Tea, Coffee & Tea, B...   \n",
       "4  mWMc6_wTdE0EUBKIGXDVfA                          Brewpubs, Breweries, Food   \n",
       "\n",
       "   review_count           Restaurant name  stars Restaurants  \n",
       "0             7  Abby Rappoport, LAC, CMQ    5.0       False  \n",
       "1            15             The UPS Store    3.0       False  \n",
       "2            22                    Target    3.5       False  \n",
       "3            80        St Honore Pastries    4.0        True  \n",
       "4            13  Perkiomen Valley Brewery    4.5       False  "
      ]
     },
     "execution_count": 17,
     "metadata": {},
     "output_type": "execute_result"
    }
   ],
   "source": [
    "business_data['Restaurants'] = business_data['categories'].str.contains('Restaurants')\n",
    "business_data.head(5)"
   ]
  },
  {
   "cell_type": "code",
   "execution_count": 18,
   "metadata": {
    "execution": {
     "iopub.execute_input": "2022-10-30T21:55:09.181572Z",
     "iopub.status.busy": "2022-10-30T21:55:09.181109Z",
     "iopub.status.idle": "2022-10-30T21:55:09.231384Z",
     "shell.execute_reply": "2022-10-30T21:55:09.230245Z",
     "shell.execute_reply.started": "2022-10-30T21:55:09.181529Z"
    }
   },
   "outputs": [
    {
     "data": {
      "text/html": [
       "<div>\n",
       "<style scoped>\n",
       "    .dataframe tbody tr th:only-of-type {\n",
       "        vertical-align: middle;\n",
       "    }\n",
       "\n",
       "    .dataframe tbody tr th {\n",
       "        vertical-align: top;\n",
       "    }\n",
       "\n",
       "    .dataframe thead th {\n",
       "        text-align: right;\n",
       "    }\n",
       "</style>\n",
       "<table border=\"1\" class=\"dataframe\">\n",
       "  <thead>\n",
       "    <tr style=\"text-align: right;\">\n",
       "      <th></th>\n",
       "      <th>business_id</th>\n",
       "      <th>categories</th>\n",
       "      <th>review_count</th>\n",
       "      <th>Restaurant name</th>\n",
       "      <th>stars</th>\n",
       "      <th>Restaurants</th>\n",
       "    </tr>\n",
       "  </thead>\n",
       "  <tbody>\n",
       "    <tr>\n",
       "      <th>3</th>\n",
       "      <td>MTSW4McQd7CbVtyjqoe9mw</td>\n",
       "      <td>Restaurants, Food, Bubble Tea, Coffee &amp; Tea, B...</td>\n",
       "      <td>80</td>\n",
       "      <td>St Honore Pastries</td>\n",
       "      <td>4.0</td>\n",
       "      <td>True</td>\n",
       "    </tr>\n",
       "    <tr>\n",
       "      <th>5</th>\n",
       "      <td>CF33F8-E6oudUQ46HnavjQ</td>\n",
       "      <td>Burgers, Fast Food, Sandwiches, Food, Ice Crea...</td>\n",
       "      <td>6</td>\n",
       "      <td>Sonic Drive-In</td>\n",
       "      <td>2.0</td>\n",
       "      <td>True</td>\n",
       "    </tr>\n",
       "    <tr>\n",
       "      <th>8</th>\n",
       "      <td>k0hlBqXX-Bt0vf1op7Jr1w</td>\n",
       "      <td>Pubs, Restaurants, Italian, Bars, American (Tr...</td>\n",
       "      <td>19</td>\n",
       "      <td>Tsevi's Pub And Grill</td>\n",
       "      <td>3.0</td>\n",
       "      <td>True</td>\n",
       "    </tr>\n",
       "    <tr>\n",
       "      <th>9</th>\n",
       "      <td>bBDDEgkFA1Otx9Lfe7BZUQ</td>\n",
       "      <td>Ice Cream &amp; Frozen Yogurt, Fast Food, Burgers,...</td>\n",
       "      <td>10</td>\n",
       "      <td>Sonic Drive-In</td>\n",
       "      <td>1.5</td>\n",
       "      <td>True</td>\n",
       "    </tr>\n",
       "    <tr>\n",
       "      <th>11</th>\n",
       "      <td>eEOYSgkmpB90uNA7lDOMRA</td>\n",
       "      <td>Vietnamese, Food, Restaurants, Food Trucks</td>\n",
       "      <td>10</td>\n",
       "      <td>Vietnamese Food Truck</td>\n",
       "      <td>4.0</td>\n",
       "      <td>True</td>\n",
       "    </tr>\n",
       "  </tbody>\n",
       "</table>\n",
       "</div>"
      ],
      "text/plain": [
       "               business_id                                         categories  \\\n",
       "3   MTSW4McQd7CbVtyjqoe9mw  Restaurants, Food, Bubble Tea, Coffee & Tea, B...   \n",
       "5   CF33F8-E6oudUQ46HnavjQ  Burgers, Fast Food, Sandwiches, Food, Ice Crea...   \n",
       "8   k0hlBqXX-Bt0vf1op7Jr1w  Pubs, Restaurants, Italian, Bars, American (Tr...   \n",
       "9   bBDDEgkFA1Otx9Lfe7BZUQ  Ice Cream & Frozen Yogurt, Fast Food, Burgers,...   \n",
       "11  eEOYSgkmpB90uNA7lDOMRA         Vietnamese, Food, Restaurants, Food Trucks   \n",
       "\n",
       "    review_count        Restaurant name  stars Restaurants  \n",
       "3             80     St Honore Pastries    4.0        True  \n",
       "5              6         Sonic Drive-In    2.0        True  \n",
       "8             19  Tsevi's Pub And Grill    3.0        True  \n",
       "9             10         Sonic Drive-In    1.5        True  \n",
       "11            10  Vietnamese Food Truck    4.0        True  "
      ]
     },
     "execution_count": 18,
     "metadata": {},
     "output_type": "execute_result"
    }
   ],
   "source": [
    "business_restaurant = business_data.loc[business_data.Restaurants == True]\n",
    "business_restaurant.head(5)"
   ]
  },
  {
   "cell_type": "code",
   "execution_count": 19,
   "metadata": {
    "execution": {
     "iopub.execute_input": "2022-10-30T21:55:09.232876Z",
     "iopub.status.busy": "2022-10-30T21:55:09.232557Z",
     "iopub.status.idle": "2022-10-30T21:55:09.239673Z",
     "shell.execute_reply": "2022-10-30T21:55:09.238484Z",
     "shell.execute_reply.started": "2022-10-30T21:55:09.232847Z"
    }
   },
   "outputs": [
    {
     "data": {
      "text/plain": [
       "(52268, 6)"
      ]
     },
     "execution_count": 19,
     "metadata": {},
     "output_type": "execute_result"
    }
   ],
   "source": [
    "business_restaurant.shape"
   ]
  },
  {
   "cell_type": "code",
   "execution_count": 20,
   "metadata": {
    "execution": {
     "iopub.execute_input": "2022-10-30T21:55:09.241955Z",
     "iopub.status.busy": "2022-10-30T21:55:09.241447Z",
     "iopub.status.idle": "2022-10-30T21:55:09.250868Z",
     "shell.execute_reply": "2022-10-30T21:55:09.249725Z",
     "shell.execute_reply.started": "2022-10-30T21:55:09.241907Z"
    }
   },
   "outputs": [],
   "source": [
    "import matplotlib.pyplot as plt\n",
    "import seaborn as sns\n",
    "sns.set()"
   ]
  },
  {
   "cell_type": "code",
   "execution_count": 21,
   "metadata": {
    "execution": {
     "iopub.execute_input": "2022-10-30T21:55:09.253016Z",
     "iopub.status.busy": "2022-10-30T21:55:09.252541Z",
     "iopub.status.idle": "2022-10-30T21:55:09.586324Z",
     "shell.execute_reply": "2022-10-30T21:55:09.58515Z",
     "shell.execute_reply.started": "2022-10-30T21:55:09.252949Z"
    }
   },
   "outputs": [
    {
     "ename": "KeyError",
     "evalue": "0",
     "output_type": "error",
     "traceback": [
      "\u001b[1;31m---------------------------------------------------------------------------\u001b[0m",
      "\u001b[1;31mKeyError\u001b[0m                                  Traceback (most recent call last)",
      "File \u001b[1;32m~\\anaconda3\\lib\\site-packages\\pandas\\core\\indexes\\base.py:3802\u001b[0m, in \u001b[0;36mIndex.get_loc\u001b[1;34m(self, key, method, tolerance)\u001b[0m\n\u001b[0;32m   3801\u001b[0m \u001b[38;5;28;01mtry\u001b[39;00m:\n\u001b[1;32m-> 3802\u001b[0m     \u001b[38;5;28;01mreturn\u001b[39;00m \u001b[38;5;28;43mself\u001b[39;49m\u001b[38;5;241;43m.\u001b[39;49m\u001b[43m_engine\u001b[49m\u001b[38;5;241;43m.\u001b[39;49m\u001b[43mget_loc\u001b[49m\u001b[43m(\u001b[49m\u001b[43mcasted_key\u001b[49m\u001b[43m)\u001b[49m\n\u001b[0;32m   3803\u001b[0m \u001b[38;5;28;01mexcept\u001b[39;00m \u001b[38;5;167;01mKeyError\u001b[39;00m \u001b[38;5;28;01mas\u001b[39;00m err:\n",
      "File \u001b[1;32m~\\anaconda3\\lib\\site-packages\\pandas\\_libs\\index.pyx:138\u001b[0m, in \u001b[0;36mpandas._libs.index.IndexEngine.get_loc\u001b[1;34m()\u001b[0m\n",
      "File \u001b[1;32m~\\anaconda3\\lib\\site-packages\\pandas\\_libs\\index.pyx:165\u001b[0m, in \u001b[0;36mpandas._libs.index.IndexEngine.get_loc\u001b[1;34m()\u001b[0m\n",
      "File \u001b[1;32mpandas\\_libs\\hashtable_class_helper.pxi:2263\u001b[0m, in \u001b[0;36mpandas._libs.hashtable.Int64HashTable.get_item\u001b[1;34m()\u001b[0m\n",
      "File \u001b[1;32mpandas\\_libs\\hashtable_class_helper.pxi:2273\u001b[0m, in \u001b[0;36mpandas._libs.hashtable.Int64HashTable.get_item\u001b[1;34m()\u001b[0m\n",
      "\u001b[1;31mKeyError\u001b[0m: 0",
      "\nThe above exception was the direct cause of the following exception:\n",
      "\u001b[1;31mKeyError\u001b[0m                                  Traceback (most recent call last)",
      "Cell \u001b[1;32mIn[21], line 2\u001b[0m\n\u001b[0;32m      1\u001b[0m fig, ax \u001b[38;5;241m=\u001b[39m plt\u001b[38;5;241m.\u001b[39msubplots(figsize \u001b[38;5;241m=\u001b[39m (\u001b[38;5;241m13\u001b[39m,\u001b[38;5;241m11\u001b[39m))\n\u001b[1;32m----> 2\u001b[0m \u001b[43msns\u001b[49m\u001b[38;5;241;43m.\u001b[39;49m\u001b[43mcountplot\u001b[49m\u001b[43m(\u001b[49m\u001b[43mbusiness_restaurant\u001b[49m\u001b[43m[\u001b[49m\u001b[38;5;124;43m'\u001b[39;49m\u001b[38;5;124;43mstars\u001b[39;49m\u001b[38;5;124;43m'\u001b[39;49m\u001b[43m]\u001b[49m\u001b[43m,\u001b[49m\u001b[43m \u001b[49m\u001b[43max\u001b[49m\u001b[38;5;241;43m=\u001b[39;49m\u001b[43max\u001b[49m\u001b[43m)\u001b[49m\n\u001b[0;32m      3\u001b[0m plt\u001b[38;5;241m.\u001b[39mtitle(\u001b[38;5;124m'\u001b[39m\u001b[38;5;124mReview plots for Restaurants in Business dataset\u001b[39m\u001b[38;5;124m'\u001b[39m)\n\u001b[0;32m      4\u001b[0m plt\u001b[38;5;241m.\u001b[39mshow()\n",
      "File \u001b[1;32m~\\anaconda3\\lib\\site-packages\\seaborn\\categorical.py:2943\u001b[0m, in \u001b[0;36mcountplot\u001b[1;34m(data, x, y, hue, order, hue_order, orient, color, palette, saturation, width, dodge, ax, **kwargs)\u001b[0m\n\u001b[0;32m   2940\u001b[0m \u001b[38;5;28;01melif\u001b[39;00m x \u001b[38;5;129;01mis\u001b[39;00m \u001b[38;5;129;01mnot\u001b[39;00m \u001b[38;5;28;01mNone\u001b[39;00m \u001b[38;5;129;01mand\u001b[39;00m y \u001b[38;5;129;01mis\u001b[39;00m \u001b[38;5;129;01mnot\u001b[39;00m \u001b[38;5;28;01mNone\u001b[39;00m:\n\u001b[0;32m   2941\u001b[0m     \u001b[38;5;28;01mraise\u001b[39;00m \u001b[38;5;167;01mValueError\u001b[39;00m(\u001b[38;5;124m\"\u001b[39m\u001b[38;5;124mCannot pass values for both `x` and `y`\u001b[39m\u001b[38;5;124m\"\u001b[39m)\n\u001b[1;32m-> 2943\u001b[0m plotter \u001b[38;5;241m=\u001b[39m \u001b[43m_CountPlotter\u001b[49m\u001b[43m(\u001b[49m\n\u001b[0;32m   2944\u001b[0m \u001b[43m    \u001b[49m\u001b[43mx\u001b[49m\u001b[43m,\u001b[49m\u001b[43m \u001b[49m\u001b[43my\u001b[49m\u001b[43m,\u001b[49m\u001b[43m \u001b[49m\u001b[43mhue\u001b[49m\u001b[43m,\u001b[49m\u001b[43m \u001b[49m\u001b[43mdata\u001b[49m\u001b[43m,\u001b[49m\u001b[43m \u001b[49m\u001b[43morder\u001b[49m\u001b[43m,\u001b[49m\u001b[43m \u001b[49m\u001b[43mhue_order\u001b[49m\u001b[43m,\u001b[49m\n\u001b[0;32m   2945\u001b[0m \u001b[43m    \u001b[49m\u001b[43mestimator\u001b[49m\u001b[43m,\u001b[49m\u001b[43m \u001b[49m\u001b[43merrorbar\u001b[49m\u001b[43m,\u001b[49m\u001b[43m \u001b[49m\u001b[43mn_boot\u001b[49m\u001b[43m,\u001b[49m\u001b[43m \u001b[49m\u001b[43munits\u001b[49m\u001b[43m,\u001b[49m\u001b[43m \u001b[49m\u001b[43mseed\u001b[49m\u001b[43m,\u001b[49m\n\u001b[0;32m   2946\u001b[0m \u001b[43m    \u001b[49m\u001b[43morient\u001b[49m\u001b[43m,\u001b[49m\u001b[43m \u001b[49m\u001b[43mcolor\u001b[49m\u001b[43m,\u001b[49m\u001b[43m \u001b[49m\u001b[43mpalette\u001b[49m\u001b[43m,\u001b[49m\u001b[43m \u001b[49m\u001b[43msaturation\u001b[49m\u001b[43m,\u001b[49m\n\u001b[0;32m   2947\u001b[0m \u001b[43m    \u001b[49m\u001b[43mwidth\u001b[49m\u001b[43m,\u001b[49m\u001b[43m \u001b[49m\u001b[43merrcolor\u001b[49m\u001b[43m,\u001b[49m\u001b[43m \u001b[49m\u001b[43merrwidth\u001b[49m\u001b[43m,\u001b[49m\u001b[43m \u001b[49m\u001b[43mcapsize\u001b[49m\u001b[43m,\u001b[49m\u001b[43m \u001b[49m\u001b[43mdodge\u001b[49m\n\u001b[0;32m   2948\u001b[0m \u001b[43m\u001b[49m\u001b[43m)\u001b[49m\n\u001b[0;32m   2950\u001b[0m plotter\u001b[38;5;241m.\u001b[39mvalue_label \u001b[38;5;241m=\u001b[39m \u001b[38;5;124m\"\u001b[39m\u001b[38;5;124mcount\u001b[39m\u001b[38;5;124m\"\u001b[39m\n\u001b[0;32m   2952\u001b[0m \u001b[38;5;28;01mif\u001b[39;00m ax \u001b[38;5;129;01mis\u001b[39;00m \u001b[38;5;28;01mNone\u001b[39;00m:\n",
      "File \u001b[1;32m~\\anaconda3\\lib\\site-packages\\seaborn\\categorical.py:1530\u001b[0m, in \u001b[0;36m_BarPlotter.__init__\u001b[1;34m(self, x, y, hue, data, order, hue_order, estimator, errorbar, n_boot, units, seed, orient, color, palette, saturation, width, errcolor, errwidth, capsize, dodge)\u001b[0m\n\u001b[0;32m   1525\u001b[0m \u001b[38;5;28;01mdef\u001b[39;00m \u001b[38;5;21m__init__\u001b[39m(\u001b[38;5;28mself\u001b[39m, x, y, hue, data, order, hue_order,\n\u001b[0;32m   1526\u001b[0m              estimator, errorbar, n_boot, units, seed,\n\u001b[0;32m   1527\u001b[0m              orient, color, palette, saturation, width,\n\u001b[0;32m   1528\u001b[0m              errcolor, errwidth, capsize, dodge):\n\u001b[0;32m   1529\u001b[0m \u001b[38;5;250m    \u001b[39m\u001b[38;5;124;03m\"\"\"Initialize the plotter.\"\"\"\u001b[39;00m\n\u001b[1;32m-> 1530\u001b[0m     \u001b[38;5;28;43mself\u001b[39;49m\u001b[38;5;241;43m.\u001b[39;49m\u001b[43mestablish_variables\u001b[49m\u001b[43m(\u001b[49m\u001b[43mx\u001b[49m\u001b[43m,\u001b[49m\u001b[43m \u001b[49m\u001b[43my\u001b[49m\u001b[43m,\u001b[49m\u001b[43m \u001b[49m\u001b[43mhue\u001b[49m\u001b[43m,\u001b[49m\u001b[43m \u001b[49m\u001b[43mdata\u001b[49m\u001b[43m,\u001b[49m\u001b[43m \u001b[49m\u001b[43morient\u001b[49m\u001b[43m,\u001b[49m\n\u001b[0;32m   1531\u001b[0m \u001b[43m                             \u001b[49m\u001b[43morder\u001b[49m\u001b[43m,\u001b[49m\u001b[43m \u001b[49m\u001b[43mhue_order\u001b[49m\u001b[43m,\u001b[49m\u001b[43m \u001b[49m\u001b[43munits\u001b[49m\u001b[43m)\u001b[49m\n\u001b[0;32m   1532\u001b[0m     \u001b[38;5;28mself\u001b[39m\u001b[38;5;241m.\u001b[39mestablish_colors(color, palette, saturation)\n\u001b[0;32m   1533\u001b[0m     \u001b[38;5;28mself\u001b[39m\u001b[38;5;241m.\u001b[39mestimate_statistic(estimator, errorbar, n_boot, seed)\n",
      "File \u001b[1;32m~\\anaconda3\\lib\\site-packages\\seaborn\\categorical.py:486\u001b[0m, in \u001b[0;36m_CategoricalPlotter.establish_variables\u001b[1;34m(self, x, y, hue, data, orient, order, hue_order, units)\u001b[0m\n\u001b[0;32m    484\u001b[0m \u001b[38;5;28;01mif\u001b[39;00m \u001b[38;5;28mhasattr\u001b[39m(data, \u001b[38;5;124m\"\u001b[39m\u001b[38;5;124mshape\u001b[39m\u001b[38;5;124m\"\u001b[39m):\n\u001b[0;32m    485\u001b[0m     \u001b[38;5;28;01mif\u001b[39;00m \u001b[38;5;28mlen\u001b[39m(data\u001b[38;5;241m.\u001b[39mshape) \u001b[38;5;241m==\u001b[39m \u001b[38;5;241m1\u001b[39m:\n\u001b[1;32m--> 486\u001b[0m         \u001b[38;5;28;01mif\u001b[39;00m np\u001b[38;5;241m.\u001b[39misscalar(\u001b[43mdata\u001b[49m\u001b[43m[\u001b[49m\u001b[38;5;241;43m0\u001b[39;49m\u001b[43m]\u001b[49m):\n\u001b[0;32m    487\u001b[0m             plot_data \u001b[38;5;241m=\u001b[39m [data]\n\u001b[0;32m    488\u001b[0m         \u001b[38;5;28;01melse\u001b[39;00m:\n",
      "File \u001b[1;32m~\\anaconda3\\lib\\site-packages\\pandas\\core\\series.py:981\u001b[0m, in \u001b[0;36mSeries.__getitem__\u001b[1;34m(self, key)\u001b[0m\n\u001b[0;32m    978\u001b[0m     \u001b[38;5;28;01mreturn\u001b[39;00m \u001b[38;5;28mself\u001b[39m\u001b[38;5;241m.\u001b[39m_values[key]\n\u001b[0;32m    980\u001b[0m \u001b[38;5;28;01melif\u001b[39;00m key_is_scalar:\n\u001b[1;32m--> 981\u001b[0m     \u001b[38;5;28;01mreturn\u001b[39;00m \u001b[38;5;28;43mself\u001b[39;49m\u001b[38;5;241;43m.\u001b[39;49m\u001b[43m_get_value\u001b[49m\u001b[43m(\u001b[49m\u001b[43mkey\u001b[49m\u001b[43m)\u001b[49m\n\u001b[0;32m    983\u001b[0m \u001b[38;5;28;01mif\u001b[39;00m is_hashable(key):\n\u001b[0;32m    984\u001b[0m     \u001b[38;5;66;03m# Otherwise index.get_value will raise InvalidIndexError\u001b[39;00m\n\u001b[0;32m    985\u001b[0m     \u001b[38;5;28;01mtry\u001b[39;00m:\n\u001b[0;32m    986\u001b[0m         \u001b[38;5;66;03m# For labels that don't resolve as scalars like tuples and frozensets\u001b[39;00m\n",
      "File \u001b[1;32m~\\anaconda3\\lib\\site-packages\\pandas\\core\\series.py:1089\u001b[0m, in \u001b[0;36mSeries._get_value\u001b[1;34m(self, label, takeable)\u001b[0m\n\u001b[0;32m   1086\u001b[0m     \u001b[38;5;28;01mreturn\u001b[39;00m \u001b[38;5;28mself\u001b[39m\u001b[38;5;241m.\u001b[39m_values[label]\n\u001b[0;32m   1088\u001b[0m \u001b[38;5;66;03m# Similar to Index.get_value, but we do not fall back to positional\u001b[39;00m\n\u001b[1;32m-> 1089\u001b[0m loc \u001b[38;5;241m=\u001b[39m \u001b[38;5;28;43mself\u001b[39;49m\u001b[38;5;241;43m.\u001b[39;49m\u001b[43mindex\u001b[49m\u001b[38;5;241;43m.\u001b[39;49m\u001b[43mget_loc\u001b[49m\u001b[43m(\u001b[49m\u001b[43mlabel\u001b[49m\u001b[43m)\u001b[49m\n\u001b[0;32m   1090\u001b[0m \u001b[38;5;28;01mreturn\u001b[39;00m \u001b[38;5;28mself\u001b[39m\u001b[38;5;241m.\u001b[39mindex\u001b[38;5;241m.\u001b[39m_get_values_for_loc(\u001b[38;5;28mself\u001b[39m, loc, label)\n",
      "File \u001b[1;32m~\\anaconda3\\lib\\site-packages\\pandas\\core\\indexes\\base.py:3804\u001b[0m, in \u001b[0;36mIndex.get_loc\u001b[1;34m(self, key, method, tolerance)\u001b[0m\n\u001b[0;32m   3802\u001b[0m     \u001b[38;5;28;01mreturn\u001b[39;00m \u001b[38;5;28mself\u001b[39m\u001b[38;5;241m.\u001b[39m_engine\u001b[38;5;241m.\u001b[39mget_loc(casted_key)\n\u001b[0;32m   3803\u001b[0m \u001b[38;5;28;01mexcept\u001b[39;00m \u001b[38;5;167;01mKeyError\u001b[39;00m \u001b[38;5;28;01mas\u001b[39;00m err:\n\u001b[1;32m-> 3804\u001b[0m     \u001b[38;5;28;01mraise\u001b[39;00m \u001b[38;5;167;01mKeyError\u001b[39;00m(key) \u001b[38;5;28;01mfrom\u001b[39;00m \u001b[38;5;21;01merr\u001b[39;00m\n\u001b[0;32m   3805\u001b[0m \u001b[38;5;28;01mexcept\u001b[39;00m \u001b[38;5;167;01mTypeError\u001b[39;00m:\n\u001b[0;32m   3806\u001b[0m     \u001b[38;5;66;03m# If we have a listlike key, _check_indexing_error will raise\u001b[39;00m\n\u001b[0;32m   3807\u001b[0m     \u001b[38;5;66;03m#  InvalidIndexError. Otherwise we fall through and re-raise\u001b[39;00m\n\u001b[0;32m   3808\u001b[0m     \u001b[38;5;66;03m#  the TypeError.\u001b[39;00m\n\u001b[0;32m   3809\u001b[0m     \u001b[38;5;28mself\u001b[39m\u001b[38;5;241m.\u001b[39m_check_indexing_error(key)\n",
      "\u001b[1;31mKeyError\u001b[0m: 0"
     ]
    },
    {
     "data": {
      "image/png": "[encoded data removed]",
      "text/plain": [
       "<Figure size 1300x1100 with 1 Axes>"
      ]
     },
     "metadata": {},
     "output_type": "display_data"
    }
   ],
   "source": [
    "fig, ax = plt.subplots(figsize = (13,11))\n",
    "sns.countplot(business_restaurant['stars'], ax=ax)\n",
    "plt.title('Review plots for Restaurants in Business dataset')\n",
    "plt.show()"
   ]
  },
  {
   "cell_type": "code",
   "execution_count": 22,
   "metadata": {
    "execution": {
     "iopub.execute_input": "2022-10-30T21:55:09.58868Z",
     "iopub.status.busy": "2022-10-30T21:55:09.588178Z",
     "iopub.status.idle": "2022-10-30T21:55:10.082675Z",
     "shell.execute_reply": "2022-10-30T21:55:10.081565Z",
     "shell.execute_reply.started": "2022-10-30T21:55:09.588636Z"
    }
   },
   "outputs": [
    {
     "data": {
      "text/plain": [
       "[Text(0.5, 0, 'Restaurant'), Text(0, 0.5, 'Review Count')]"
      ]
     },
     "execution_count": 22,
     "metadata": {},
     "output_type": "execute_result"
    },
    {
     "data": {
      "image/png": "[encoded data removed]",
      "text/plain": [
       "<Figure size 1500x700 with 1 Axes>"
      ]
     },
     "metadata": {},
     "output_type": "display_data"
    }
   ],
   "source": [
    "top_res = business_restaurant[business_restaurant[\"stars\"]==5]\n",
    "top_res = top_res.sort_values('review_count', ascending=False).head(20)\n",
    "\n",
    "plt.figure(figsize=(15,7))\n",
    "p = sns.barplot(x='Restaurant name', y=\"review_count\", data=top_res,color=\"g\")\n",
    "p.set_xticklabels(p.get_xticklabels(), rotation = 90, fontsize = 8)\n",
    "p.set_title(\"Top 5 star-rated Restuarants sorted by review count\")\n",
    "p.set(xlabel=\"Restaurant\", ylabel=\"Review Count\")"
   ]
  },
  {
   "cell_type": "code",
   "execution_count": 23,
   "metadata": {
    "execution": {
     "iopub.execute_input": "2022-10-30T21:55:10.084925Z",
     "iopub.status.busy": "2022-10-30T21:55:10.084446Z",
     "iopub.status.idle": "2022-10-30T21:55:10.604689Z",
     "shell.execute_reply": "2022-10-30T21:55:10.603474Z",
     "shell.execute_reply.started": "2022-10-30T21:55:10.084881Z"
    }
   },
   "outputs": [
    {
     "data": {
      "text/plain": [
       "[Text(0.5, 0, 'Restaurant'), Text(0, 0.5, 'Review Count')]"
      ]
     },
     "execution_count": 23,
     "metadata": {},
     "output_type": "execute_result"
    },
    {
     "data": {
      "image/png": "[encoded data removed]",
      "text/plain": [
       "<Figure size 2000x800 with 1 Axes>"
      ]
     },
     "metadata": {},
     "output_type": "display_data"
    }
   ],
   "source": [
    "top_res = business_restaurant[business_restaurant[\"stars\"]< 3]\n",
    "top_res = top_res.sort_values('review_count', ascending=False).head(20)\n",
    "\n",
    "plt.figure(figsize=(20,8))\n",
    "p = sns.barplot(x='Restaurant name', y=\"review_count\", data=top_res,color=\"r\")\n",
    "p.set_xticklabels(p.get_xticklabels(), rotation = 90, fontsize = 8)\n",
    "p.set_title(\"Least Rated restaurants(<3) by review count\")\n",
    "p.set(xlabel=\"Restaurant\", ylabel=\"Review Count\")"
   ]
  },
  {
   "cell_type": "code",
   "execution_count": 24,
   "metadata": {
    "execution": {
     "iopub.execute_input": "2022-10-30T21:55:10.606246Z",
     "iopub.status.busy": "2022-10-30T21:55:10.605915Z",
     "iopub.status.idle": "2022-10-30T21:55:10.611934Z",
     "shell.execute_reply": "2022-10-30T21:55:10.610667Z",
     "shell.execute_reply.started": "2022-10-30T21:55:10.606217Z"
    }
   },
   "outputs": [],
   "source": [
    "#business_restaurant = business_restaurant[business_restaurant['business_id'].isin(review_data['business_id'])]\n"
   ]
  },
  {
   "cell_type": "code",
   "execution_count": 25,
   "metadata": {
    "execution": {
     "iopub.execute_input": "2022-10-30T21:55:10.613728Z",
     "iopub.status.busy": "2022-10-30T21:55:10.613354Z",
     "iopub.status.idle": "2022-10-30T21:55:21.564955Z",
     "shell.execute_reply": "2022-10-30T21:55:21.563754Z",
     "shell.execute_reply.started": "2022-10-30T21:55:10.613698Z"
    }
   },
   "outputs": [
    {
     "data": {
      "text/html": [
       "<div>\n",
       "<style scoped>\n",
       "    .dataframe tbody tr th:only-of-type {\n",
       "        vertical-align: middle;\n",
       "    }\n",
       "\n",
       "    .dataframe tbody tr th {\n",
       "        vertical-align: top;\n",
       "    }\n",
       "\n",
       "    .dataframe thead th {\n",
       "        text-align: right;\n",
       "    }\n",
       "</style>\n",
       "<table border=\"1\" class=\"dataframe\">\n",
       "  <thead>\n",
       "    <tr style=\"text-align: right;\">\n",
       "      <th></th>\n",
       "      <th>review_id</th>\n",
       "      <th>user_id</th>\n",
       "      <th>business_id</th>\n",
       "      <th>stars_review</th>\n",
       "      <th>categories</th>\n",
       "      <th>review_count</th>\n",
       "      <th>Restaurant name</th>\n",
       "      <th>stars_business</th>\n",
       "      <th>Restaurants</th>\n",
       "      <th>Username</th>\n",
       "    </tr>\n",
       "  </thead>\n",
       "  <tbody>\n",
       "    <tr>\n",
       "      <th>0</th>\n",
       "      <td>KU_O5udG6zpxOg-VcAEodg</td>\n",
       "      <td>mh_-eMZ6K5RLWhZyISBhwA</td>\n",
       "      <td>XQfwVwDr-v0ZS3_CbbE5Xw</td>\n",
       "      <td>3.0</td>\n",
       "      <td>Restaurants, Breakfast &amp; Brunch, Food, Juice B...</td>\n",
       "      <td>169.0</td>\n",
       "      <td>Turning Point of North Wales</td>\n",
       "      <td>3.0</td>\n",
       "      <td>True</td>\n",
       "      <td>Melanie</td>\n",
       "    </tr>\n",
       "    <tr>\n",
       "      <th>1</th>\n",
       "      <td>BiTunyQ73aT9WBnpR9DZGw</td>\n",
       "      <td>OyoGAe7OKpv6SyGZT5g77Q</td>\n",
       "      <td>7ATYjTIgM3jUlt4UM3IypQ</td>\n",
       "      <td>5.0</td>\n",
       "      <td>NaN</td>\n",
       "      <td>NaN</td>\n",
       "      <td>NaN</td>\n",
       "      <td>NaN</td>\n",
       "      <td>NaN</td>\n",
       "      <td>Erin</td>\n",
       "    </tr>\n",
       "    <tr>\n",
       "      <th>2</th>\n",
       "      <td>saUsX_uimxRlCVr67Z4Jig</td>\n",
       "      <td>8g_iMtfSiwikVnbP2etR0A</td>\n",
       "      <td>YjUWPpI6HXG530lwP-fb2A</td>\n",
       "      <td>3.0</td>\n",
       "      <td>Restaurants, Breakfast &amp; Brunch</td>\n",
       "      <td>47.0</td>\n",
       "      <td>Kettle Restaurant</td>\n",
       "      <td>3.5</td>\n",
       "      <td>True</td>\n",
       "      <td>Debra</td>\n",
       "    </tr>\n",
       "    <tr>\n",
       "      <th>3</th>\n",
       "      <td>AqPFMleE6RsU23_auESxiA</td>\n",
       "      <td>_7bHUi9Uuf5__HHc_Q8guQ</td>\n",
       "      <td>kxX2SOes4o-D3ZQBkiMRfA</td>\n",
       "      <td>5.0</td>\n",
       "      <td>Halal, Pakistani, Restaurants, Indian</td>\n",
       "      <td>181.0</td>\n",
       "      <td>Zaika</td>\n",
       "      <td>4.0</td>\n",
       "      <td>True</td>\n",
       "      <td>Kyle</td>\n",
       "    </tr>\n",
       "    <tr>\n",
       "      <th>4</th>\n",
       "      <td>Sx8TMOWLNuJBWer-0pcmoA</td>\n",
       "      <td>bcjbaE6dDog4jkNY91ncLQ</td>\n",
       "      <td>e4Vwtrqf-wpJfwesgvdgxQ</td>\n",
       "      <td>4.0</td>\n",
       "      <td>Sandwiches, Beer, Wine &amp; Spirits, Bars, Food, ...</td>\n",
       "      <td>32.0</td>\n",
       "      <td>Melt</td>\n",
       "      <td>4.0</td>\n",
       "      <td>True</td>\n",
       "      <td>Sophia</td>\n",
       "    </tr>\n",
       "  </tbody>\n",
       "</table>\n",
       "</div>"
      ],
      "text/plain": [
       "                review_id                 user_id             business_id  \\\n",
       "0  KU_O5udG6zpxOg-VcAEodg  mh_-eMZ6K5RLWhZyISBhwA  XQfwVwDr-v0ZS3_CbbE5Xw   \n",
       "1  BiTunyQ73aT9WBnpR9DZGw  OyoGAe7OKpv6SyGZT5g77Q  7ATYjTIgM3jUlt4UM3IypQ   \n",
       "2  saUsX_uimxRlCVr67Z4Jig  8g_iMtfSiwikVnbP2etR0A  YjUWPpI6HXG530lwP-fb2A   \n",
       "3  AqPFMleE6RsU23_auESxiA  _7bHUi9Uuf5__HHc_Q8guQ  kxX2SOes4o-D3ZQBkiMRfA   \n",
       "4  Sx8TMOWLNuJBWer-0pcmoA  bcjbaE6dDog4jkNY91ncLQ  e4Vwtrqf-wpJfwesgvdgxQ   \n",
       "\n",
       "   stars_review                                         categories  \\\n",
       "0           3.0  Restaurants, Breakfast & Brunch, Food, Juice B...   \n",
       "1           5.0                                                NaN   \n",
       "2           3.0                    Restaurants, Breakfast & Brunch   \n",
       "3           5.0              Halal, Pakistani, Restaurants, Indian   \n",
       "4           4.0  Sandwiches, Beer, Wine & Spirits, Bars, Food, ...   \n",
       "\n",
       "   review_count               Restaurant name  stars_business Restaurants  \\\n",
       "0         169.0  Turning Point of North Wales             3.0        True   \n",
       "1           NaN                           NaN             NaN         NaN   \n",
       "2          47.0             Kettle Restaurant             3.5        True   \n",
       "3         181.0                         Zaika             4.0        True   \n",
       "4          32.0                          Melt             4.0        True   \n",
       "\n",
       "  Username  \n",
       "0  Melanie  \n",
       "1     Erin  \n",
       "2    Debra  \n",
       "3     Kyle  \n",
       "4   Sophia  "
      ]
     },
     "execution_count": 25,
     "metadata": {},
     "output_type": "execute_result"
    }
   ],
   "source": [
    "# Combine the columns from the given dataframe to consist only of required columns for model\n",
    "ratings_data = review_data.join(business_restaurant.set_index('business_id'), on='business_id',  how='left', lsuffix='_review', rsuffix='_business')\n",
    "ratings_data = ratings_data.join(user_data.set_index('user_id'), on = 'user_id', how='left', lsuffix='_left', rsuffix='_right')\n",
    "ratings_data.head()"
   ]
  },
  {
   "cell_type": "code",
   "execution_count": 26,
   "metadata": {
    "execution": {
     "iopub.execute_input": "2022-10-30T21:55:21.566677Z",
     "iopub.status.busy": "2022-10-30T21:55:21.566321Z",
     "iopub.status.idle": "2022-10-30T21:55:21.572692Z",
     "shell.execute_reply": "2022-10-30T21:55:21.571304Z",
     "shell.execute_reply.started": "2022-10-30T21:55:21.566645Z"
    }
   },
   "outputs": [],
   "source": [
    "ratings_data_sample = ratings_data.head(1000)"
   ]
  },
  {
   "cell_type": "code",
   "execution_count": 27,
   "metadata": {
    "execution": {
     "iopub.execute_input": "2022-10-30T21:55:45.506016Z",
     "iopub.status.busy": "2022-10-30T21:55:45.505199Z",
     "iopub.status.idle": "2022-10-30T21:55:45.512399Z",
     "shell.execute_reply": "2022-10-30T21:55:45.511268Z",
     "shell.execute_reply.started": "2022-10-30T21:55:45.505972Z"
    }
   },
   "outputs": [
    {
     "data": {
      "text/plain": [
       "(6990280, 10)"
      ]
     },
     "execution_count": 27,
     "metadata": {},
     "output_type": "execute_result"
    }
   ],
   "source": [
    "ratings_data.shape"
   ]
  },
  {
   "cell_type": "code",
   "execution_count": 28,
   "metadata": {
    "execution": {
     "iopub.execute_input": "2022-10-30T21:55:21.574758Z",
     "iopub.status.busy": "2022-10-30T21:55:21.574327Z",
     "iopub.status.idle": "2022-10-30T21:55:22.232995Z",
     "shell.execute_reply": "2022-10-30T21:55:22.231761Z",
     "shell.execute_reply.started": "2022-10-30T21:55:21.574726Z"
    }
   },
   "outputs": [],
   "source": [
    "reader = Reader(rating_scale=(1, 5))\n",
    "\n",
    "# The columns must correspond to user id, business id and stars (in that order).\n",
    "data = Dataset.load_from_df(ratings_data_sample[['user_id', 'business_id', 'stars_review']], reader)\n",
    "\n",
    "# An antiset is a set of those user and item pairs for which a rating doesn't exist in original dataset\n",
    "# We will use this data for testing\n",
    "anti_set = data.build_full_trainset().build_anti_testset()\n",
    "#trainset, testset = train_test_split(data, test_size=0.25)"
   ]
  },
  {
   "cell_type": "code",
   "execution_count": 29,
   "metadata": {
    "execution": {
     "iopub.execute_input": "2022-10-30T21:55:22.237489Z",
     "iopub.status.busy": "2022-10-30T21:55:22.237105Z",
     "iopub.status.idle": "2022-10-30T21:55:22.243575Z",
     "shell.execute_reply": "2022-10-30T21:55:22.242218Z",
     "shell.execute_reply.started": "2022-10-30T21:55:22.237455Z"
    }
   },
   "outputs": [
    {
     "name": "stdout",
     "output_type": "stream",
     "text": [
      "<surprise.dataset.DatasetAutoFolds object at 0x0000020DB7D7A940>\n"
     ]
    }
   ],
   "source": [
    "print(data)"
   ]
  },
  {
   "cell_type": "code",
   "execution_count": 30,
   "metadata": {
    "execution": {
     "iopub.execute_input": "2022-10-30T21:55:22.245633Z",
     "iopub.status.busy": "2022-10-30T21:55:22.245227Z",
     "iopub.status.idle": "2022-10-30T21:55:22.367197Z",
     "shell.execute_reply": "2022-10-30T21:55:22.365973Z",
     "shell.execute_reply.started": "2022-10-30T21:55:22.245592Z"
    }
   },
   "outputs": [
    {
     "name": "stdout",
     "output_type": "stream",
     "text": [
      "Computing the cosine similarity matrix...\n",
      "Done computing similarity matrix.\n",
      "RMSE: 1.3037\n",
      "Computing the cosine similarity matrix...\n",
      "Done computing similarity matrix.\n",
      "RMSE: 1.3709\n",
      "Computing the cosine similarity matrix...\n",
      "Done computing similarity matrix.\n",
      "RMSE: 1.3636\n",
      "Computing the cosine similarity matrix...\n",
      "Done computing similarity matrix.\n",
      "RMSE: 1.4073\n",
      "Computing the cosine similarity matrix...\n",
      "Done computing similarity matrix.\n",
      "RMSE: 1.4082\n"
     ]
    }
   ],
   "source": [
    "sim_options = { 'name': 'cosine' ,'user_based':  False}\n",
    "kf = KFold(n_splits=5)\n",
    "algo = KNNWithMeans(k =3 , sim_options = sim_options)\n",
    "best_algo = None\n",
    "best_rmse = 1000.0\n",
    "best_pred = None\n",
    "for trainset, testset in kf.split(data):\n",
    "    # train and test algorithm.\n",
    "    algo.fit(trainset)\n",
    "    predictions = algo.test(testset)\n",
    "    # Compute and print Root Mean Squared Error\n",
    "    rmse = accuracy.rmse(predictions, verbose=True)\n",
    "    if rmse < best_rmse:\n",
    "        best_rmse= rmse\n",
    "        best_algo = algo\n",
    "        best_pred = predictions"
   ]
  },
  {
   "cell_type": "code",
   "execution_count": 31,
   "metadata": {
    "execution": {
     "iopub.execute_input": "2022-10-30T21:55:22.370538Z",
     "iopub.status.busy": "2022-10-30T21:55:22.36975Z",
     "iopub.status.idle": "2022-10-30T21:55:22.401404Z",
     "shell.execute_reply": "2022-10-30T21:55:22.399886Z",
     "shell.execute_reply.started": "2022-10-30T21:55:22.37049Z"
    }
   },
   "outputs": [
    {
     "data": {
      "text/html": [
       "<div>\n",
       "<style scoped>\n",
       "    .dataframe tbody tr th:only-of-type {\n",
       "        vertical-align: middle;\n",
       "    }\n",
       "\n",
       "    .dataframe tbody tr th {\n",
       "        vertical-align: top;\n",
       "    }\n",
       "\n",
       "    .dataframe thead th {\n",
       "        text-align: right;\n",
       "    }\n",
       "</style>\n",
       "<table border=\"1\" class=\"dataframe\">\n",
       "  <thead>\n",
       "    <tr style=\"text-align: right;\">\n",
       "      <th></th>\n",
       "      <th>uid</th>\n",
       "      <th>iid</th>\n",
       "      <th>Username</th>\n",
       "      <th>user_id</th>\n",
       "      <th>Restaurant name</th>\n",
       "      <th>business_id</th>\n",
       "      <th>est</th>\n",
       "      <th>stars_review</th>\n",
       "    </tr>\n",
       "  </thead>\n",
       "  <tbody>\n",
       "    <tr>\n",
       "      <th>0</th>\n",
       "      <td>hwKBB5PVOtD5KAfT_ucsYw</td>\n",
       "      <td>Uj2LpQ5Hni4kQPC-jt9JPA</td>\n",
       "      <td>Brian</td>\n",
       "      <td>hwKBB5PVOtD5KAfT_ucsYw</td>\n",
       "      <td>NaN</td>\n",
       "      <td>Uj2LpQ5Hni4kQPC-jt9JPA</td>\n",
       "      <td>3.81375</td>\n",
       "      <td>5.0</td>\n",
       "    </tr>\n",
       "    <tr>\n",
       "      <th>1</th>\n",
       "      <td>pqlLJVba9KAtahkjvNINYg</td>\n",
       "      <td>Dv6RfXLYe1atjgz3Xf4GGw</td>\n",
       "      <td>Caitlin</td>\n",
       "      <td>pqlLJVba9KAtahkjvNINYg</td>\n",
       "      <td>HipCityVeg</td>\n",
       "      <td>Dv6RfXLYe1atjgz3Xf4GGw</td>\n",
       "      <td>3.81375</td>\n",
       "      <td>4.0</td>\n",
       "    </tr>\n",
       "    <tr>\n",
       "      <th>2</th>\n",
       "      <td>3inG_FUhm28tUJc0zZ2fCg</td>\n",
       "      <td>aY_n9RSaD2Yw09jSFFePew</td>\n",
       "      <td>Sandy</td>\n",
       "      <td>3inG_FUhm28tUJc0zZ2fCg</td>\n",
       "      <td>PizzaMan Dan's</td>\n",
       "      <td>aY_n9RSaD2Yw09jSFFePew</td>\n",
       "      <td>3.81375</td>\n",
       "      <td>1.0</td>\n",
       "    </tr>\n",
       "    <tr>\n",
       "      <th>3</th>\n",
       "      <td>oP3oYmqGyylvHxZR8ejGQg</td>\n",
       "      <td>72Y65Cg8MO1t9cWCHpwEQQ</td>\n",
       "      <td>David</td>\n",
       "      <td>oP3oYmqGyylvHxZR8ejGQg</td>\n",
       "      <td>Fresco Italian Sandwich Shoppe</td>\n",
       "      <td>72Y65Cg8MO1t9cWCHpwEQQ</td>\n",
       "      <td>3.81375</td>\n",
       "      <td>5.0</td>\n",
       "    </tr>\n",
       "    <tr>\n",
       "      <th>4</th>\n",
       "      <td>0nOrJJ4gN5BxYIyxWcJaGA</td>\n",
       "      <td>Mha77MN_BYGB-w7DONZ5YA</td>\n",
       "      <td>Chris</td>\n",
       "      <td>0nOrJJ4gN5BxYIyxWcJaGA</td>\n",
       "      <td>Cuenelli's Peruvian Restaurant</td>\n",
       "      <td>Mha77MN_BYGB-w7DONZ5YA</td>\n",
       "      <td>3.81375</td>\n",
       "      <td>5.0</td>\n",
       "    </tr>\n",
       "    <tr>\n",
       "      <th>...</th>\n",
       "      <td>...</td>\n",
       "      <td>...</td>\n",
       "      <td>...</td>\n",
       "      <td>...</td>\n",
       "      <td>...</td>\n",
       "      <td>...</td>\n",
       "      <td>...</td>\n",
       "      <td>...</td>\n",
       "    </tr>\n",
       "    <tr>\n",
       "      <th>195</th>\n",
       "      <td>SNngOVGTkD34B3FAFnMv5A</td>\n",
       "      <td>ab3pRv-b0o-BwMK2jVbH3Q</td>\n",
       "      <td>Janelle</td>\n",
       "      <td>SNngOVGTkD34B3FAFnMv5A</td>\n",
       "      <td>Saki Endless Sushi &amp; Hibachi Eatery</td>\n",
       "      <td>ab3pRv-b0o-BwMK2jVbH3Q</td>\n",
       "      <td>3.81375</td>\n",
       "      <td>5.0</td>\n",
       "    </tr>\n",
       "    <tr>\n",
       "      <th>196</th>\n",
       "      <td>nyjj6EHn29se2IE8c_Wq4A</td>\n",
       "      <td>2K75poiMupFTvpQq5REWTA</td>\n",
       "      <td>Gabriela</td>\n",
       "      <td>nyjj6EHn29se2IE8c_Wq4A</td>\n",
       "      <td>NaN</td>\n",
       "      <td>2K75poiMupFTvpQq5REWTA</td>\n",
       "      <td>3.81375</td>\n",
       "      <td>5.0</td>\n",
       "    </tr>\n",
       "    <tr>\n",
       "      <th>197</th>\n",
       "      <td>EJqV61HlYmFEmzcIaRVVOw</td>\n",
       "      <td>tpSeNezanZDvsXWR7Hhi1w</td>\n",
       "      <td>Amy</td>\n",
       "      <td>EJqV61HlYmFEmzcIaRVVOw</td>\n",
       "      <td>Taco Bell</td>\n",
       "      <td>tpSeNezanZDvsXWR7Hhi1w</td>\n",
       "      <td>3.81375</td>\n",
       "      <td>1.0</td>\n",
       "    </tr>\n",
       "    <tr>\n",
       "      <th>198</th>\n",
       "      <td>nBUnQnecIYYWuxk0g5njhw</td>\n",
       "      <td>j99PtxlKTW_u5alE4jiqHQ</td>\n",
       "      <td>Leah</td>\n",
       "      <td>nBUnQnecIYYWuxk0g5njhw</td>\n",
       "      <td>Ralphs Italian Restaurant</td>\n",
       "      <td>j99PtxlKTW_u5alE4jiqHQ</td>\n",
       "      <td>3.81375</td>\n",
       "      <td>5.0</td>\n",
       "    </tr>\n",
       "    <tr>\n",
       "      <th>199</th>\n",
       "      <td>NDZvyYHTUWWu-kqgQzzDGQ</td>\n",
       "      <td>CLEWowfkj-wKYJlQDqT1aw</td>\n",
       "      <td>Johana</td>\n",
       "      <td>NDZvyYHTUWWu-kqgQzzDGQ</td>\n",
       "      <td>NaN</td>\n",
       "      <td>CLEWowfkj-wKYJlQDqT1aw</td>\n",
       "      <td>3.81375</td>\n",
       "      <td>5.0</td>\n",
       "    </tr>\n",
       "  </tbody>\n",
       "</table>\n",
       "<p>200 rows × 8 columns</p>\n",
       "</div>"
      ],
      "text/plain": [
       "                        uid                     iid  Username  \\\n",
       "0    hwKBB5PVOtD5KAfT_ucsYw  Uj2LpQ5Hni4kQPC-jt9JPA     Brian   \n",
       "1    pqlLJVba9KAtahkjvNINYg  Dv6RfXLYe1atjgz3Xf4GGw   Caitlin   \n",
       "2    3inG_FUhm28tUJc0zZ2fCg  aY_n9RSaD2Yw09jSFFePew     Sandy   \n",
       "3    oP3oYmqGyylvHxZR8ejGQg  72Y65Cg8MO1t9cWCHpwEQQ     David   \n",
       "4    0nOrJJ4gN5BxYIyxWcJaGA  Mha77MN_BYGB-w7DONZ5YA     Chris   \n",
       "..                      ...                     ...       ...   \n",
       "195  SNngOVGTkD34B3FAFnMv5A  ab3pRv-b0o-BwMK2jVbH3Q   Janelle   \n",
       "196  nyjj6EHn29se2IE8c_Wq4A  2K75poiMupFTvpQq5REWTA  Gabriela   \n",
       "197  EJqV61HlYmFEmzcIaRVVOw  tpSeNezanZDvsXWR7Hhi1w       Amy   \n",
       "198  nBUnQnecIYYWuxk0g5njhw  j99PtxlKTW_u5alE4jiqHQ      Leah   \n",
       "199  NDZvyYHTUWWu-kqgQzzDGQ  CLEWowfkj-wKYJlQDqT1aw    Johana   \n",
       "\n",
       "                    user_id                      Restaurant name  \\\n",
       "0    hwKBB5PVOtD5KAfT_ucsYw                                  NaN   \n",
       "1    pqlLJVba9KAtahkjvNINYg                           HipCityVeg   \n",
       "2    3inG_FUhm28tUJc0zZ2fCg                       PizzaMan Dan's   \n",
       "3    oP3oYmqGyylvHxZR8ejGQg       Fresco Italian Sandwich Shoppe   \n",
       "4    0nOrJJ4gN5BxYIyxWcJaGA       Cuenelli's Peruvian Restaurant   \n",
       "..                      ...                                  ...   \n",
       "195  SNngOVGTkD34B3FAFnMv5A  Saki Endless Sushi & Hibachi Eatery   \n",
       "196  nyjj6EHn29se2IE8c_Wq4A                                  NaN   \n",
       "197  EJqV61HlYmFEmzcIaRVVOw                            Taco Bell   \n",
       "198  nBUnQnecIYYWuxk0g5njhw            Ralphs Italian Restaurant   \n",
       "199  NDZvyYHTUWWu-kqgQzzDGQ                                  NaN   \n",
       "\n",
       "                business_id      est  stars_review  \n",
       "0    Uj2LpQ5Hni4kQPC-jt9JPA  3.81375           5.0  \n",
       "1    Dv6RfXLYe1atjgz3Xf4GGw  3.81375           4.0  \n",
       "2    aY_n9RSaD2Yw09jSFFePew  3.81375           1.0  \n",
       "3    72Y65Cg8MO1t9cWCHpwEQQ  3.81375           5.0  \n",
       "4    Mha77MN_BYGB-w7DONZ5YA  3.81375           5.0  \n",
       "..                      ...      ...           ...  \n",
       "195  ab3pRv-b0o-BwMK2jVbH3Q  3.81375           5.0  \n",
       "196  2K75poiMupFTvpQq5REWTA  3.81375           5.0  \n",
       "197  tpSeNezanZDvsXWR7Hhi1w  3.81375           1.0  \n",
       "198  j99PtxlKTW_u5alE4jiqHQ  3.81375           5.0  \n",
       "199  CLEWowfkj-wKYJlQDqT1aw  3.81375           5.0  \n",
       "\n",
       "[200 rows x 8 columns]"
      ]
     },
     "execution_count": 31,
     "metadata": {},
     "output_type": "execute_result"
    }
   ],
   "source": [
    "pred_df = pd.DataFrame(best_pred).merge(ratings_data_sample , left_on = ['uid', 'iid'], right_on = ['user_id', 'business_id'])\n",
    "pred_df[['uid', 'iid',  'Username', 'user_id', 'Restaurant name', 'business_id', 'est','stars_review']]"
   ]
  },
  {
   "cell_type": "code",
   "execution_count": 32,
   "metadata": {
    "execution": {
     "iopub.execute_input": "2022-10-30T21:55:22.403169Z",
     "iopub.status.busy": "2022-10-30T21:55:22.402827Z",
     "iopub.status.idle": "2022-10-30T21:55:32.108439Z",
     "shell.execute_reply": "2022-10-30T21:55:32.10735Z",
     "shell.execute_reply.started": "2022-10-30T21:55:22.403138Z"
    }
   },
   "outputs": [],
   "source": [
    "anti_pre = best_algo.test(anti_set)\n",
    "pred_df = pd.DataFrame(anti_pre).merge(business_restaurant , left_on = ['iid'], right_on = ['business_id'])\n",
    "pred_df = pd.DataFrame(pred_df).merge(user_data , left_on = ['uid'], right_on = ['user_id'])"
   ]
  },
  {
   "cell_type": "code",
   "execution_count": 33,
   "metadata": {
    "execution": {
     "iopub.execute_input": "2022-10-30T21:55:32.110319Z",
     "iopub.status.busy": "2022-10-30T21:55:32.10993Z",
     "iopub.status.idle": "2022-10-30T21:55:32.139637Z",
     "shell.execute_reply": "2022-10-30T21:55:32.138432Z",
     "shell.execute_reply.started": "2022-10-30T21:55:32.110288Z"
    }
   },
   "outputs": [
    {
     "data": {
      "text/html": [
       "<div>\n",
       "<style scoped>\n",
       "    .dataframe tbody tr th:only-of-type {\n",
       "        vertical-align: middle;\n",
       "    }\n",
       "\n",
       "    .dataframe tbody tr th {\n",
       "        vertical-align: top;\n",
       "    }\n",
       "\n",
       "    .dataframe thead th {\n",
       "        text-align: right;\n",
       "    }\n",
       "</style>\n",
       "<table border=\"1\" class=\"dataframe\">\n",
       "  <thead>\n",
       "    <tr style=\"text-align: right;\">\n",
       "      <th></th>\n",
       "      <th>uid</th>\n",
       "      <th>iid</th>\n",
       "      <th>r_ui</th>\n",
       "      <th>est</th>\n",
       "      <th>details</th>\n",
       "      <th>business_id</th>\n",
       "      <th>categories</th>\n",
       "      <th>review_count</th>\n",
       "      <th>Restaurant name</th>\n",
       "      <th>stars</th>\n",
       "      <th>Restaurants</th>\n",
       "      <th>user_id</th>\n",
       "      <th>Username</th>\n",
       "    </tr>\n",
       "  </thead>\n",
       "  <tbody>\n",
       "    <tr>\n",
       "      <th>0</th>\n",
       "      <td>mh_-eMZ6K5RLWhZyISBhwA</td>\n",
       "      <td>YjUWPpI6HXG530lwP-fb2A</td>\n",
       "      <td>3.85</td>\n",
       "      <td>3.00000</td>\n",
       "      <td>{'actual_k': 0, 'was_impossible': False}</td>\n",
       "      <td>YjUWPpI6HXG530lwP-fb2A</td>\n",
       "      <td>Restaurants, Breakfast &amp; Brunch</td>\n",
       "      <td>47</td>\n",
       "      <td>Kettle Restaurant</td>\n",
       "      <td>3.5</td>\n",
       "      <td>True</td>\n",
       "      <td>mh_-eMZ6K5RLWhZyISBhwA</td>\n",
       "      <td>Melanie</td>\n",
       "    </tr>\n",
       "    <tr>\n",
       "      <th>1</th>\n",
       "      <td>mh_-eMZ6K5RLWhZyISBhwA</td>\n",
       "      <td>kxX2SOes4o-D3ZQBkiMRfA</td>\n",
       "      <td>3.85</td>\n",
       "      <td>4.00000</td>\n",
       "      <td>{'actual_k': 0, 'was_impossible': False}</td>\n",
       "      <td>kxX2SOes4o-D3ZQBkiMRfA</td>\n",
       "      <td>Halal, Pakistani, Restaurants, Indian</td>\n",
       "      <td>181</td>\n",
       "      <td>Zaika</td>\n",
       "      <td>4.0</td>\n",
       "      <td>True</td>\n",
       "      <td>mh_-eMZ6K5RLWhZyISBhwA</td>\n",
       "      <td>Melanie</td>\n",
       "    </tr>\n",
       "    <tr>\n",
       "      <th>2</th>\n",
       "      <td>mh_-eMZ6K5RLWhZyISBhwA</td>\n",
       "      <td>e4Vwtrqf-wpJfwesgvdgxQ</td>\n",
       "      <td>3.85</td>\n",
       "      <td>4.00000</td>\n",
       "      <td>{'actual_k': 0, 'was_impossible': False}</td>\n",
       "      <td>e4Vwtrqf-wpJfwesgvdgxQ</td>\n",
       "      <td>Sandwiches, Beer, Wine &amp; Spirits, Bars, Food, ...</td>\n",
       "      <td>32</td>\n",
       "      <td>Melt</td>\n",
       "      <td>4.0</td>\n",
       "      <td>True</td>\n",
       "      <td>mh_-eMZ6K5RLWhZyISBhwA</td>\n",
       "      <td>Melanie</td>\n",
       "    </tr>\n",
       "    <tr>\n",
       "      <th>3</th>\n",
       "      <td>mh_-eMZ6K5RLWhZyISBhwA</td>\n",
       "      <td>04UD14gamNjLY0IDYVhHJg</td>\n",
       "      <td>3.85</td>\n",
       "      <td>1.00000</td>\n",
       "      <td>{'actual_k': 0, 'was_impossible': False}</td>\n",
       "      <td>04UD14gamNjLY0IDYVhHJg</td>\n",
       "      <td>Mediterranean, Restaurants, Seafood, Greek</td>\n",
       "      <td>273</td>\n",
       "      <td>Dmitri's</td>\n",
       "      <td>4.0</td>\n",
       "      <td>True</td>\n",
       "      <td>mh_-eMZ6K5RLWhZyISBhwA</td>\n",
       "      <td>Melanie</td>\n",
       "    </tr>\n",
       "    <tr>\n",
       "      <th>4</th>\n",
       "      <td>mh_-eMZ6K5RLWhZyISBhwA</td>\n",
       "      <td>LHSTtnW3YHCeUkRDGyJOyw</td>\n",
       "      <td>3.85</td>\n",
       "      <td>3.86875</td>\n",
       "      <td>{'was_impossible': True, 'reason': 'User and/o...</td>\n",
       "      <td>LHSTtnW3YHCeUkRDGyJOyw</td>\n",
       "      <td>Beer Bar, Bars, American (New), Gastropubs, Re...</td>\n",
       "      <td>103</td>\n",
       "      <td>Fries Rebellion</td>\n",
       "      <td>3.5</td>\n",
       "      <td>True</td>\n",
       "      <td>mh_-eMZ6K5RLWhZyISBhwA</td>\n",
       "      <td>Melanie</td>\n",
       "    </tr>\n",
       "    <tr>\n",
       "      <th>...</th>\n",
       "      <td>...</td>\n",
       "      <td>...</td>\n",
       "      <td>...</td>\n",
       "      <td>...</td>\n",
       "      <td>...</td>\n",
       "      <td>...</td>\n",
       "      <td>...</td>\n",
       "      <td>...</td>\n",
       "      <td>...</td>\n",
       "      <td>...</td>\n",
       "      <td>...</td>\n",
       "      <td>...</td>\n",
       "      <td>...</td>\n",
       "    </tr>\n",
       "    <tr>\n",
       "      <th>995</th>\n",
       "      <td>OyoGAe7OKpv6SyGZT5g77Q</td>\n",
       "      <td>zVoxVPHEt11_0GzqNuT2ZQ</td>\n",
       "      <td>3.85</td>\n",
       "      <td>4.00000</td>\n",
       "      <td>{'actual_k': 0, 'was_impossible': False}</td>\n",
       "      <td>zVoxVPHEt11_0GzqNuT2ZQ</td>\n",
       "      <td>Restaurants, American (New)</td>\n",
       "      <td>186</td>\n",
       "      <td>Home Wine Kitchen</td>\n",
       "      <td>4.0</td>\n",
       "      <td>True</td>\n",
       "      <td>OyoGAe7OKpv6SyGZT5g77Q</td>\n",
       "      <td>Erin</td>\n",
       "    </tr>\n",
       "    <tr>\n",
       "      <th>996</th>\n",
       "      <td>OyoGAe7OKpv6SyGZT5g77Q</td>\n",
       "      <td>aZNiVR6oAMQX5__yGPvYsg</td>\n",
       "      <td>3.85</td>\n",
       "      <td>3.00000</td>\n",
       "      <td>{'actual_k': 0, 'was_impossible': False}</td>\n",
       "      <td>aZNiVR6oAMQX5__yGPvYsg</td>\n",
       "      <td>Chinese, Restaurants</td>\n",
       "      <td>26</td>\n",
       "      <td>Susanna Foo Chinese Cuisine</td>\n",
       "      <td>3.5</td>\n",
       "      <td>True</td>\n",
       "      <td>OyoGAe7OKpv6SyGZT5g77Q</td>\n",
       "      <td>Erin</td>\n",
       "    </tr>\n",
       "    <tr>\n",
       "      <th>997</th>\n",
       "      <td>OyoGAe7OKpv6SyGZT5g77Q</td>\n",
       "      <td>-K0zTgGyxo-AeSkcV0IVaA</td>\n",
       "      <td>3.85</td>\n",
       "      <td>5.00000</td>\n",
       "      <td>{'actual_k': 0, 'was_impossible': False}</td>\n",
       "      <td>-K0zTgGyxo-AeSkcV0IVaA</td>\n",
       "      <td>Mediterranean, Restaurants</td>\n",
       "      <td>158</td>\n",
       "      <td>Spiro's Restaurant</td>\n",
       "      <td>4.5</td>\n",
       "      <td>True</td>\n",
       "      <td>OyoGAe7OKpv6SyGZT5g77Q</td>\n",
       "      <td>Erin</td>\n",
       "    </tr>\n",
       "    <tr>\n",
       "      <th>998</th>\n",
       "      <td>OyoGAe7OKpv6SyGZT5g77Q</td>\n",
       "      <td>LT4A5jVMURvH_DKdr7A91w</td>\n",
       "      <td>3.85</td>\n",
       "      <td>1.00000</td>\n",
       "      <td>{'actual_k': 0, 'was_impossible': False}</td>\n",
       "      <td>LT4A5jVMURvH_DKdr7A91w</td>\n",
       "      <td>Sandwiches, Barbeque, Restaurants, Food</td>\n",
       "      <td>65</td>\n",
       "      <td>Big Q BBQ</td>\n",
       "      <td>2.5</td>\n",
       "      <td>True</td>\n",
       "      <td>OyoGAe7OKpv6SyGZT5g77Q</td>\n",
       "      <td>Erin</td>\n",
       "    </tr>\n",
       "    <tr>\n",
       "      <th>999</th>\n",
       "      <td>OyoGAe7OKpv6SyGZT5g77Q</td>\n",
       "      <td>gKPWC7F219oEbu5NXPzH4g</td>\n",
       "      <td>3.85</td>\n",
       "      <td>4.00000</td>\n",
       "      <td>{'actual_k': 0, 'was_impossible': False}</td>\n",
       "      <td>gKPWC7F219oEbu5NXPzH4g</td>\n",
       "      <td>Seafood, American (Traditional), Music Venues,...</td>\n",
       "      <td>555</td>\n",
       "      <td>Sam's Beach Bar</td>\n",
       "      <td>3.5</td>\n",
       "      <td>True</td>\n",
       "      <td>OyoGAe7OKpv6SyGZT5g77Q</td>\n",
       "      <td>Erin</td>\n",
       "    </tr>\n",
       "  </tbody>\n",
       "</table>\n",
       "<p>1000 rows × 13 columns</p>\n",
       "</div>"
      ],
      "text/plain": [
       "                        uid                     iid  r_ui      est  \\\n",
       "0    mh_-eMZ6K5RLWhZyISBhwA  YjUWPpI6HXG530lwP-fb2A  3.85  3.00000   \n",
       "1    mh_-eMZ6K5RLWhZyISBhwA  kxX2SOes4o-D3ZQBkiMRfA  3.85  4.00000   \n",
       "2    mh_-eMZ6K5RLWhZyISBhwA  e4Vwtrqf-wpJfwesgvdgxQ  3.85  4.00000   \n",
       "3    mh_-eMZ6K5RLWhZyISBhwA  04UD14gamNjLY0IDYVhHJg  3.85  1.00000   \n",
       "4    mh_-eMZ6K5RLWhZyISBhwA  LHSTtnW3YHCeUkRDGyJOyw  3.85  3.86875   \n",
       "..                      ...                     ...   ...      ...   \n",
       "995  OyoGAe7OKpv6SyGZT5g77Q  zVoxVPHEt11_0GzqNuT2ZQ  3.85  4.00000   \n",
       "996  OyoGAe7OKpv6SyGZT5g77Q  aZNiVR6oAMQX5__yGPvYsg  3.85  3.00000   \n",
       "997  OyoGAe7OKpv6SyGZT5g77Q  -K0zTgGyxo-AeSkcV0IVaA  3.85  5.00000   \n",
       "998  OyoGAe7OKpv6SyGZT5g77Q  LT4A5jVMURvH_DKdr7A91w  3.85  1.00000   \n",
       "999  OyoGAe7OKpv6SyGZT5g77Q  gKPWC7F219oEbu5NXPzH4g  3.85  4.00000   \n",
       "\n",
       "                                               details  \\\n",
       "0             {'actual_k': 0, 'was_impossible': False}   \n",
       "1             {'actual_k': 0, 'was_impossible': False}   \n",
       "2             {'actual_k': 0, 'was_impossible': False}   \n",
       "3             {'actual_k': 0, 'was_impossible': False}   \n",
       "4    {'was_impossible': True, 'reason': 'User and/o...   \n",
       "..                                                 ...   \n",
       "995           {'actual_k': 0, 'was_impossible': False}   \n",
       "996           {'actual_k': 0, 'was_impossible': False}   \n",
       "997           {'actual_k': 0, 'was_impossible': False}   \n",
       "998           {'actual_k': 0, 'was_impossible': False}   \n",
       "999           {'actual_k': 0, 'was_impossible': False}   \n",
       "\n",
       "                business_id  \\\n",
       "0    YjUWPpI6HXG530lwP-fb2A   \n",
       "1    kxX2SOes4o-D3ZQBkiMRfA   \n",
       "2    e4Vwtrqf-wpJfwesgvdgxQ   \n",
       "3    04UD14gamNjLY0IDYVhHJg   \n",
       "4    LHSTtnW3YHCeUkRDGyJOyw   \n",
       "..                      ...   \n",
       "995  zVoxVPHEt11_0GzqNuT2ZQ   \n",
       "996  aZNiVR6oAMQX5__yGPvYsg   \n",
       "997  -K0zTgGyxo-AeSkcV0IVaA   \n",
       "998  LT4A5jVMURvH_DKdr7A91w   \n",
       "999  gKPWC7F219oEbu5NXPzH4g   \n",
       "\n",
       "                                            categories  review_count  \\\n",
       "0                      Restaurants, Breakfast & Brunch            47   \n",
       "1                Halal, Pakistani, Restaurants, Indian           181   \n",
       "2    Sandwiches, Beer, Wine & Spirits, Bars, Food, ...            32   \n",
       "3           Mediterranean, Restaurants, Seafood, Greek           273   \n",
       "4    Beer Bar, Bars, American (New), Gastropubs, Re...           103   \n",
       "..                                                 ...           ...   \n",
       "995                        Restaurants, American (New)           186   \n",
       "996                               Chinese, Restaurants            26   \n",
       "997                         Mediterranean, Restaurants           158   \n",
       "998            Sandwiches, Barbeque, Restaurants, Food            65   \n",
       "999  Seafood, American (Traditional), Music Venues,...           555   \n",
       "\n",
       "                 Restaurant name  stars Restaurants                 user_id  \\\n",
       "0              Kettle Restaurant    3.5        True  mh_-eMZ6K5RLWhZyISBhwA   \n",
       "1                          Zaika    4.0        True  mh_-eMZ6K5RLWhZyISBhwA   \n",
       "2                           Melt    4.0        True  mh_-eMZ6K5RLWhZyISBhwA   \n",
       "3                       Dmitri's    4.0        True  mh_-eMZ6K5RLWhZyISBhwA   \n",
       "4                Fries Rebellion    3.5        True  mh_-eMZ6K5RLWhZyISBhwA   \n",
       "..                           ...    ...         ...                     ...   \n",
       "995            Home Wine Kitchen    4.0        True  OyoGAe7OKpv6SyGZT5g77Q   \n",
       "996  Susanna Foo Chinese Cuisine    3.5        True  OyoGAe7OKpv6SyGZT5g77Q   \n",
       "997           Spiro's Restaurant    4.5        True  OyoGAe7OKpv6SyGZT5g77Q   \n",
       "998                    Big Q BBQ    2.5        True  OyoGAe7OKpv6SyGZT5g77Q   \n",
       "999              Sam's Beach Bar    3.5        True  OyoGAe7OKpv6SyGZT5g77Q   \n",
       "\n",
       "    Username  \n",
       "0    Melanie  \n",
       "1    Melanie  \n",
       "2    Melanie  \n",
       "3    Melanie  \n",
       "4    Melanie  \n",
       "..       ...  \n",
       "995     Erin  \n",
       "996     Erin  \n",
       "997     Erin  \n",
       "998     Erin  \n",
       "999     Erin  \n",
       "\n",
       "[1000 rows x 13 columns]"
      ]
     },
     "execution_count": 33,
     "metadata": {},
     "output_type": "execute_result"
    }
   ],
   "source": [
    "pred_df[:1000]"
   ]
  },
  {
   "cell_type": "code",
   "execution_count": 34,
   "metadata": {
    "execution": {
     "iopub.execute_input": "2022-10-30T21:55:32.141445Z",
     "iopub.status.busy": "2022-10-30T21:55:32.141073Z",
     "iopub.status.idle": "2022-10-30T21:55:32.390299Z",
     "shell.execute_reply": "2022-10-30T21:55:32.389212Z",
     "shell.execute_reply.started": "2022-10-30T21:55:32.1414Z"
    }
   },
   "outputs": [
    {
     "data": {
      "text/html": [
       "<div>\n",
       "<style scoped>\n",
       "    .dataframe tbody tr th:only-of-type {\n",
       "        vertical-align: middle;\n",
       "    }\n",
       "\n",
       "    .dataframe tbody tr th {\n",
       "        vertical-align: top;\n",
       "    }\n",
       "\n",
       "    .dataframe thead th {\n",
       "        text-align: right;\n",
       "    }\n",
       "</style>\n",
       "<table border=\"1\" class=\"dataframe\">\n",
       "  <thead>\n",
       "    <tr style=\"text-align: right;\">\n",
       "      <th></th>\n",
       "      <th>uid</th>\n",
       "      <th>iid</th>\n",
       "      <th>r_ui</th>\n",
       "      <th>est</th>\n",
       "      <th>details</th>\n",
       "      <th>business_id</th>\n",
       "      <th>categories</th>\n",
       "      <th>review_count</th>\n",
       "      <th>Restaurant name</th>\n",
       "      <th>stars</th>\n",
       "      <th>Restaurants</th>\n",
       "      <th>user_id</th>\n",
       "      <th>Username</th>\n",
       "    </tr>\n",
       "  </thead>\n",
       "  <tbody>\n",
       "    <tr>\n",
       "      <th>13</th>\n",
       "      <td>mh_-eMZ6K5RLWhZyISBhwA</td>\n",
       "      <td>eFvzHawVJofxSnD7TgbZtg</td>\n",
       "      <td>3.85</td>\n",
       "      <td>5.0</td>\n",
       "      <td>{'actual_k': 0, 'was_impossible': False}</td>\n",
       "      <td>eFvzHawVJofxSnD7TgbZtg</td>\n",
       "      <td>Food, Cafes, Coffee &amp; Tea, Restaurants</td>\n",
       "      <td>249</td>\n",
       "      <td>Good Karma Cafe</td>\n",
       "      <td>4.0</td>\n",
       "      <td>True</td>\n",
       "      <td>mh_-eMZ6K5RLWhZyISBhwA</td>\n",
       "      <td>Melanie</td>\n",
       "    </tr>\n",
       "    <tr>\n",
       "      <th>18</th>\n",
       "      <td>mh_-eMZ6K5RLWhZyISBhwA</td>\n",
       "      <td>x4XdNhp0Xn8lOivzc77J-g</td>\n",
       "      <td>3.85</td>\n",
       "      <td>5.0</td>\n",
       "      <td>{'actual_k': 0, 'was_impossible': False}</td>\n",
       "      <td>x4XdNhp0Xn8lOivzc77J-g</td>\n",
       "      <td>Thai, Restaurants</td>\n",
       "      <td>222</td>\n",
       "      <td>Thai Place Restaurant</td>\n",
       "      <td>4.5</td>\n",
       "      <td>True</td>\n",
       "      <td>mh_-eMZ6K5RLWhZyISBhwA</td>\n",
       "      <td>Melanie</td>\n",
       "    </tr>\n",
       "    <tr>\n",
       "      <th>20</th>\n",
       "      <td>mh_-eMZ6K5RLWhZyISBhwA</td>\n",
       "      <td>MWmXGQ98KbRo3vsS5nZhMA</td>\n",
       "      <td>3.85</td>\n",
       "      <td>5.0</td>\n",
       "      <td>{'actual_k': 0, 'was_impossible': False}</td>\n",
       "      <td>MWmXGQ98KbRo3vsS5nZhMA</td>\n",
       "      <td>Event Planning &amp; Services, Italian, Venues &amp; E...</td>\n",
       "      <td>32</td>\n",
       "      <td>Anthony's at Paxon Hollow</td>\n",
       "      <td>3.5</td>\n",
       "      <td>True</td>\n",
       "      <td>mh_-eMZ6K5RLWhZyISBhwA</td>\n",
       "      <td>Melanie</td>\n",
       "    </tr>\n",
       "    <tr>\n",
       "      <th>23</th>\n",
       "      <td>mh_-eMZ6K5RLWhZyISBhwA</td>\n",
       "      <td>bbEXAEFr4RYHLlZ-HFssTA</td>\n",
       "      <td>3.85</td>\n",
       "      <td>5.0</td>\n",
       "      <td>{'actual_k': 0, 'was_impossible': False}</td>\n",
       "      <td>bbEXAEFr4RYHLlZ-HFssTA</td>\n",
       "      <td>Fast Food, Burgers, Restaurants</td>\n",
       "      <td>329</td>\n",
       "      <td>The Original Habit Burger Grill</td>\n",
       "      <td>4.0</td>\n",
       "      <td>True</td>\n",
       "      <td>mh_-eMZ6K5RLWhZyISBhwA</td>\n",
       "      <td>Melanie</td>\n",
       "    </tr>\n",
       "    <tr>\n",
       "      <th>24</th>\n",
       "      <td>mh_-eMZ6K5RLWhZyISBhwA</td>\n",
       "      <td>0pMj5xUAecW9o1P35B0AMw</td>\n",
       "      <td>3.85</td>\n",
       "      <td>5.0</td>\n",
       "      <td>{'actual_k': 0, 'was_impossible': False}</td>\n",
       "      <td>0pMj5xUAecW9o1P35B0AMw</td>\n",
       "      <td>Food, Coffee &amp; Tea, Gas Stations, Restaurants,...</td>\n",
       "      <td>8</td>\n",
       "      <td>Wawa</td>\n",
       "      <td>3.5</td>\n",
       "      <td>True</td>\n",
       "      <td>mh_-eMZ6K5RLWhZyISBhwA</td>\n",
       "      <td>Melanie</td>\n",
       "    </tr>\n",
       "    <tr>\n",
       "      <th>...</th>\n",
       "      <td>...</td>\n",
       "      <td>...</td>\n",
       "      <td>...</td>\n",
       "      <td>...</td>\n",
       "      <td>...</td>\n",
       "      <td>...</td>\n",
       "      <td>...</td>\n",
       "      <td>...</td>\n",
       "      <td>...</td>\n",
       "      <td>...</td>\n",
       "      <td>...</td>\n",
       "      <td>...</td>\n",
       "      <td>...</td>\n",
       "    </tr>\n",
       "    <tr>\n",
       "      <th>547</th>\n",
       "      <td>mh_-eMZ6K5RLWhZyISBhwA</td>\n",
       "      <td>F1xE--Gb4rNFAwHkNkV31A</td>\n",
       "      <td>3.85</td>\n",
       "      <td>5.0</td>\n",
       "      <td>{'actual_k': 0, 'was_impossible': False}</td>\n",
       "      <td>F1xE--Gb4rNFAwHkNkV31A</td>\n",
       "      <td>Pizza, Vegan, Restaurants, Beer, Wine &amp; Spirit...</td>\n",
       "      <td>278</td>\n",
       "      <td>Eclipse Pizza Co.</td>\n",
       "      <td>4.5</td>\n",
       "      <td>True</td>\n",
       "      <td>mh_-eMZ6K5RLWhZyISBhwA</td>\n",
       "      <td>Melanie</td>\n",
       "    </tr>\n",
       "    <tr>\n",
       "      <th>548</th>\n",
       "      <td>mh_-eMZ6K5RLWhZyISBhwA</td>\n",
       "      <td>L-YdO_NODKXXT3bkS0nUpg</td>\n",
       "      <td>3.85</td>\n",
       "      <td>5.0</td>\n",
       "      <td>{'actual_k': 0, 'was_impossible': False}</td>\n",
       "      <td>L-YdO_NODKXXT3bkS0nUpg</td>\n",
       "      <td>American (Traditional), Restaurants, Bars, Sea...</td>\n",
       "      <td>664</td>\n",
       "      <td>RumFish Grill</td>\n",
       "      <td>3.5</td>\n",
       "      <td>True</td>\n",
       "      <td>mh_-eMZ6K5RLWhZyISBhwA</td>\n",
       "      <td>Melanie</td>\n",
       "    </tr>\n",
       "    <tr>\n",
       "      <th>549</th>\n",
       "      <td>mh_-eMZ6K5RLWhZyISBhwA</td>\n",
       "      <td>L7i_5DydYEKwPLfcDBRYDA</td>\n",
       "      <td>3.85</td>\n",
       "      <td>5.0</td>\n",
       "      <td>{'actual_k': 0, 'was_impossible': False}</td>\n",
       "      <td>L7i_5DydYEKwPLfcDBRYDA</td>\n",
       "      <td>Mexican, Fast Food, Restaurants</td>\n",
       "      <td>44</td>\n",
       "      <td>Chipotle Mexican Grill</td>\n",
       "      <td>2.5</td>\n",
       "      <td>True</td>\n",
       "      <td>mh_-eMZ6K5RLWhZyISBhwA</td>\n",
       "      <td>Melanie</td>\n",
       "    </tr>\n",
       "    <tr>\n",
       "      <th>551</th>\n",
       "      <td>mh_-eMZ6K5RLWhZyISBhwA</td>\n",
       "      <td>1_hDCN3iioFR3XnUr32ZtA</td>\n",
       "      <td>3.85</td>\n",
       "      <td>5.0</td>\n",
       "      <td>{'actual_k': 0, 'was_impossible': False}</td>\n",
       "      <td>1_hDCN3iioFR3XnUr32ZtA</td>\n",
       "      <td>Fast Food, Turkish, German, Greek, Mediterrane...</td>\n",
       "      <td>109</td>\n",
       "      <td>Dooners</td>\n",
       "      <td>3.5</td>\n",
       "      <td>True</td>\n",
       "      <td>mh_-eMZ6K5RLWhZyISBhwA</td>\n",
       "      <td>Melanie</td>\n",
       "    </tr>\n",
       "    <tr>\n",
       "      <th>552</th>\n",
       "      <td>mh_-eMZ6K5RLWhZyISBhwA</td>\n",
       "      <td>alUk6OwNhofyc90NDMDY-Q</td>\n",
       "      <td>3.85</td>\n",
       "      <td>5.0</td>\n",
       "      <td>{'actual_k': 0, 'was_impossible': False}</td>\n",
       "      <td>alUk6OwNhofyc90NDMDY-Q</td>\n",
       "      <td>Latin American, Restaurants, Chicken Wings</td>\n",
       "      <td>14</td>\n",
       "      <td>Fabio's Chicken Restaurant Takeout</td>\n",
       "      <td>4.5</td>\n",
       "      <td>True</td>\n",
       "      <td>mh_-eMZ6K5RLWhZyISBhwA</td>\n",
       "      <td>Melanie</td>\n",
       "    </tr>\n",
       "  </tbody>\n",
       "</table>\n",
       "<p>181 rows × 13 columns</p>\n",
       "</div>"
      ],
      "text/plain": [
       "                        uid                     iid  r_ui  est  \\\n",
       "13   mh_-eMZ6K5RLWhZyISBhwA  eFvzHawVJofxSnD7TgbZtg  3.85  5.0   \n",
       "18   mh_-eMZ6K5RLWhZyISBhwA  x4XdNhp0Xn8lOivzc77J-g  3.85  5.0   \n",
       "20   mh_-eMZ6K5RLWhZyISBhwA  MWmXGQ98KbRo3vsS5nZhMA  3.85  5.0   \n",
       "23   mh_-eMZ6K5RLWhZyISBhwA  bbEXAEFr4RYHLlZ-HFssTA  3.85  5.0   \n",
       "24   mh_-eMZ6K5RLWhZyISBhwA  0pMj5xUAecW9o1P35B0AMw  3.85  5.0   \n",
       "..                      ...                     ...   ...  ...   \n",
       "547  mh_-eMZ6K5RLWhZyISBhwA  F1xE--Gb4rNFAwHkNkV31A  3.85  5.0   \n",
       "548  mh_-eMZ6K5RLWhZyISBhwA  L-YdO_NODKXXT3bkS0nUpg  3.85  5.0   \n",
       "549  mh_-eMZ6K5RLWhZyISBhwA  L7i_5DydYEKwPLfcDBRYDA  3.85  5.0   \n",
       "551  mh_-eMZ6K5RLWhZyISBhwA  1_hDCN3iioFR3XnUr32ZtA  3.85  5.0   \n",
       "552  mh_-eMZ6K5RLWhZyISBhwA  alUk6OwNhofyc90NDMDY-Q  3.85  5.0   \n",
       "\n",
       "                                      details             business_id  \\\n",
       "13   {'actual_k': 0, 'was_impossible': False}  eFvzHawVJofxSnD7TgbZtg   \n",
       "18   {'actual_k': 0, 'was_impossible': False}  x4XdNhp0Xn8lOivzc77J-g   \n",
       "20   {'actual_k': 0, 'was_impossible': False}  MWmXGQ98KbRo3vsS5nZhMA   \n",
       "23   {'actual_k': 0, 'was_impossible': False}  bbEXAEFr4RYHLlZ-HFssTA   \n",
       "24   {'actual_k': 0, 'was_impossible': False}  0pMj5xUAecW9o1P35B0AMw   \n",
       "..                                        ...                     ...   \n",
       "547  {'actual_k': 0, 'was_impossible': False}  F1xE--Gb4rNFAwHkNkV31A   \n",
       "548  {'actual_k': 0, 'was_impossible': False}  L-YdO_NODKXXT3bkS0nUpg   \n",
       "549  {'actual_k': 0, 'was_impossible': False}  L7i_5DydYEKwPLfcDBRYDA   \n",
       "551  {'actual_k': 0, 'was_impossible': False}  1_hDCN3iioFR3XnUr32ZtA   \n",
       "552  {'actual_k': 0, 'was_impossible': False}  alUk6OwNhofyc90NDMDY-Q   \n",
       "\n",
       "                                            categories  review_count  \\\n",
       "13              Food, Cafes, Coffee & Tea, Restaurants           249   \n",
       "18                                   Thai, Restaurants           222   \n",
       "20   Event Planning & Services, Italian, Venues & E...            32   \n",
       "23                     Fast Food, Burgers, Restaurants           329   \n",
       "24   Food, Coffee & Tea, Gas Stations, Restaurants,...             8   \n",
       "..                                                 ...           ...   \n",
       "547  Pizza, Vegan, Restaurants, Beer, Wine & Spirit...           278   \n",
       "548  American (Traditional), Restaurants, Bars, Sea...           664   \n",
       "549                    Mexican, Fast Food, Restaurants            44   \n",
       "551  Fast Food, Turkish, German, Greek, Mediterrane...           109   \n",
       "552         Latin American, Restaurants, Chicken Wings            14   \n",
       "\n",
       "                        Restaurant name  stars Restaurants  \\\n",
       "13                      Good Karma Cafe    4.0        True   \n",
       "18                Thai Place Restaurant    4.5        True   \n",
       "20            Anthony's at Paxon Hollow    3.5        True   \n",
       "23      The Original Habit Burger Grill    4.0        True   \n",
       "24                                 Wawa    3.5        True   \n",
       "..                                  ...    ...         ...   \n",
       "547                   Eclipse Pizza Co.    4.5        True   \n",
       "548                       RumFish Grill    3.5        True   \n",
       "549              Chipotle Mexican Grill    2.5        True   \n",
       "551                             Dooners    3.5        True   \n",
       "552  Fabio's Chicken Restaurant Takeout    4.5        True   \n",
       "\n",
       "                    user_id Username  \n",
       "13   mh_-eMZ6K5RLWhZyISBhwA  Melanie  \n",
       "18   mh_-eMZ6K5RLWhZyISBhwA  Melanie  \n",
       "20   mh_-eMZ6K5RLWhZyISBhwA  Melanie  \n",
       "23   mh_-eMZ6K5RLWhZyISBhwA  Melanie  \n",
       "24   mh_-eMZ6K5RLWhZyISBhwA  Melanie  \n",
       "..                      ...      ...  \n",
       "547  mh_-eMZ6K5RLWhZyISBhwA  Melanie  \n",
       "548  mh_-eMZ6K5RLWhZyISBhwA  Melanie  \n",
       "549  mh_-eMZ6K5RLWhZyISBhwA  Melanie  \n",
       "551  mh_-eMZ6K5RLWhZyISBhwA  Melanie  \n",
       "552  mh_-eMZ6K5RLWhZyISBhwA  Melanie  \n",
       "\n",
       "[181 rows x 13 columns]"
      ]
     },
     "execution_count": 34,
     "metadata": {},
     "output_type": "execute_result"
    }
   ],
   "source": [
    "## Recommend a restaurant to the user if the estimated rating is equal to 5\n",
    "\n",
    "pred_df[(pred_df['est'] == 5)&(pred_df['user_id']=='mh_-eMZ6K5RLWhZyISBhwA')]"
   ]
  },
  {
   "cell_type": "code",
   "execution_count": 35,
   "metadata": {
    "execution": {
     "iopub.execute_input": "2022-10-30T21:55:32.396684Z",
     "iopub.status.busy": "2022-10-30T21:55:32.395941Z",
     "iopub.status.idle": "2022-10-30T21:55:32.402526Z",
     "shell.execute_reply": "2022-10-30T21:55:32.401077Z",
     "shell.execute_reply.started": "2022-10-30T21:55:32.396638Z"
    }
   },
   "outputs": [],
   "source": [
    "## get restaurants recommendations for given user\n",
    "\n",
    "def get_recommendations(user_id, estimated_prediction):\n",
    "    df_recommended = pred_df[(pred_df['est'] >= estimated_prediction) & (pred_df['user_id'] == user_id)]\n",
    "    restaurants = df_recommended['Restaurant name']\n",
    "    return restaurants"
   ]
  },
  {
   "cell_type": "code",
   "execution_count": 36,
   "metadata": {
    "execution": {
     "iopub.execute_input": "2022-10-30T21:55:32.404146Z",
     "iopub.status.busy": "2022-10-30T21:55:32.403828Z",
     "iopub.status.idle": "2022-10-30T21:55:32.421469Z",
     "shell.execute_reply": "2022-10-30T21:55:32.420354Z",
     "shell.execute_reply.started": "2022-10-30T21:55:32.404119Z"
    }
   },
   "outputs": [
    {
     "data": {
      "text/html": [
       "<div>\n",
       "<style scoped>\n",
       "    .dataframe tbody tr th:only-of-type {\n",
       "        vertical-align: middle;\n",
       "    }\n",
       "\n",
       "    .dataframe tbody tr th {\n",
       "        vertical-align: top;\n",
       "    }\n",
       "\n",
       "    .dataframe thead th {\n",
       "        text-align: right;\n",
       "    }\n",
       "</style>\n",
       "<table border=\"1\" class=\"dataframe\">\n",
       "  <thead>\n",
       "    <tr style=\"text-align: right;\">\n",
       "      <th></th>\n",
       "      <th>user_id</th>\n",
       "      <th>Username</th>\n",
       "    </tr>\n",
       "  </thead>\n",
       "  <tbody>\n",
       "    <tr>\n",
       "      <th>0</th>\n",
       "      <td>qVc8ODYU5SZjKXVBgXdI7w</td>\n",
       "      <td>Walker</td>\n",
       "    </tr>\n",
       "    <tr>\n",
       "      <th>1</th>\n",
       "      <td>j14WgRoU_-2ZE1aw1dXrJg</td>\n",
       "      <td>Daniel</td>\n",
       "    </tr>\n",
       "    <tr>\n",
       "      <th>2</th>\n",
       "      <td>2WnXYQFK0hXEoTxPtV2zvg</td>\n",
       "      <td>Steph</td>\n",
       "    </tr>\n",
       "    <tr>\n",
       "      <th>3</th>\n",
       "      <td>SZDeASXq7o05mMNLshsdIA</td>\n",
       "      <td>Gwen</td>\n",
       "    </tr>\n",
       "    <tr>\n",
       "      <th>4</th>\n",
       "      <td>hA5lMy-EnncsH4JoR-hFGQ</td>\n",
       "      <td>Karen</td>\n",
       "    </tr>\n",
       "    <tr>\n",
       "      <th>...</th>\n",
       "      <td>...</td>\n",
       "      <td>...</td>\n",
       "    </tr>\n",
       "    <tr>\n",
       "      <th>95</th>\n",
       "      <td>8m2LgacB5VeP_1Mn5ZMC4w</td>\n",
       "      <td>Alan</td>\n",
       "    </tr>\n",
       "    <tr>\n",
       "      <th>96</th>\n",
       "      <td>MvOXPiqRr9IjqVtwC5mUNA</td>\n",
       "      <td>Jessica</td>\n",
       "    </tr>\n",
       "    <tr>\n",
       "      <th>97</th>\n",
       "      <td>PrJ37Ik9DxritxGPqI9ktw</td>\n",
       "      <td>David</td>\n",
       "    </tr>\n",
       "    <tr>\n",
       "      <th>98</th>\n",
       "      <td>dHLL7SVGJw5uM6IEp_wb4Q</td>\n",
       "      <td>Constance</td>\n",
       "    </tr>\n",
       "    <tr>\n",
       "      <th>99</th>\n",
       "      <td>UQFE3BT1rsIYrcDvu_XVow</td>\n",
       "      <td>Mike</td>\n",
       "    </tr>\n",
       "  </tbody>\n",
       "</table>\n",
       "<p>100 rows × 2 columns</p>\n",
       "</div>"
      ],
      "text/plain": [
       "                   user_id   Username\n",
       "0   qVc8ODYU5SZjKXVBgXdI7w     Walker\n",
       "1   j14WgRoU_-2ZE1aw1dXrJg     Daniel\n",
       "2   2WnXYQFK0hXEoTxPtV2zvg      Steph\n",
       "3   SZDeASXq7o05mMNLshsdIA       Gwen\n",
       "4   hA5lMy-EnncsH4JoR-hFGQ      Karen\n",
       "..                     ...        ...\n",
       "95  8m2LgacB5VeP_1Mn5ZMC4w       Alan\n",
       "96  MvOXPiqRr9IjqVtwC5mUNA    Jessica\n",
       "97  PrJ37Ik9DxritxGPqI9ktw      David\n",
       "98  dHLL7SVGJw5uM6IEp_wb4Q  Constance\n",
       "99  UQFE3BT1rsIYrcDvu_XVow       Mike\n",
       "\n",
       "[100 rows x 2 columns]"
      ]
     },
     "execution_count": 36,
     "metadata": {},
     "output_type": "execute_result"
    }
   ],
   "source": [
    "user_data.head(100)"
   ]
  },
  {
   "cell_type": "code",
   "execution_count": 37,
   "metadata": {
    "execution": {
     "iopub.execute_input": "2022-10-30T22:28:06.421887Z",
     "iopub.status.busy": "2022-10-30T22:28:06.42148Z",
     "iopub.status.idle": "2022-10-30T22:28:06.469269Z",
     "shell.execute_reply": "2022-10-30T22:28:06.468077Z",
     "shell.execute_reply.started": "2022-10-30T22:28:06.421855Z"
    }
   },
   "outputs": [
    {
     "name": "stdout",
     "output_type": "stream",
     "text": [
      "\n",
      "\n",
      "Recommendations are listed below for userid  OyoGAe7OKpv6SyGZT5g77Q\n",
      "\n",
      " Top 10 Recommended Restaurants\n",
      "567                    Good Karma Cafe\n",
      "572              Thai Place Restaurant\n",
      "574          Anthony's at Paxon Hollow\n",
      "577    The Original Habit Burger Grill\n",
      "578                               Wawa\n",
      "579               Helena Avenue Bakery\n",
      "580                  The Coventry Deli\n",
      "585              Three Brothers Coffee\n",
      "593                   Chase's Hop Shop\n",
      "599                         Just Pizza\n",
      "Name: Restaurant name, dtype: object\n"
     ]
    }
   ],
   "source": [
    "user = 'OyoGAe7OKpv6SyGZT5g77Q'\n",
    "recommendations = get_recommendations(user, 5)\n",
    "\n",
    "print('\\n\\nRecommendations are listed below for userid ', user)\n",
    "print('\\n Top 10 Recommended Restaurants')\n",
    "print(recommendations[:10])\n"
   ]
  },
  {
   "cell_type": "code",
   "execution_count": null,
   "metadata": {},
   "outputs": [],
   "source": []
  }
 ],
 "metadata": {
  "kernelspec": {
   "display_name": "Python 3 (ipykernel)",
   "language": "python",
   "name": "python3"
  },
  "language_info": {
   "codemirror_mode": {
    "name": "ipython",
    "version": 3
   },
   "file_extension": ".py",
   "mimetype": "text/x-python",
   "name": "python",
   "nbconvert_exporter": "python",
   "pygments_lexer": "ipython3",
   "version": "3.9.16"
  }
 },
 "nbformat": 4,
 "nbformat_minor": 4
}
